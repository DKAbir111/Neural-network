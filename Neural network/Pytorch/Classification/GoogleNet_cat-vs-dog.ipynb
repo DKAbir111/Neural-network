{
 "cells": [
  {
   "cell_type": "code",
   "execution_count": 1,
   "id": "6136da0f",
   "metadata": {},
   "outputs": [],
   "source": [
    "import torch\n",
    "import torch.nn as nn\n",
    "import torchvision\n",
    "import torchvision.transforms as transforms\n",
    "import torch.optim as optim\n",
    "import torch.nn.functional as F\n",
    "import os\n",
    "import pandas as pd\n",
    "from PIL import Image\n",
    "from torch.utils.data import Dataset, DataLoader"
   ]
  },
  {
   "cell_type": "code",
   "execution_count": 2,
   "id": "60389ad4",
   "metadata": {},
   "outputs": [],
   "source": [
    "transform= transforms.Compose(\n",
    "    [\n",
    "        transforms.ToTensor(),\n",
    "        transforms.Normalize((0.5,0.5,0.5),(0.5,0.5,0.5))\n",
    "    ]\n",
    ")"
   ]
  },
  {
   "cell_type": "code",
   "execution_count": 5,
   "id": "dbc1503d",
   "metadata": {},
   "outputs": [],
   "source": [
    "class CustomData1(Dataset):\n",
    "    def __init__(self, annoted_file, root_dir, transform=None):\n",
    "        self.annotations=pd.read_csv(annoted_file)\n",
    "        self.root_dir=root_dir\n",
    "        self.transform=transform\n",
    "        \n",
    "    def __len__(self):\n",
    "        return len(self.annotations)\n",
    "    \n",
    "    def __getitem__(self,index):\n",
    "        img_path= os.path.join( self.root_dir,self.annotations.iloc[index,0])\n",
    "        \n",
    "        image=Image.open(img_path)\n",
    "        label= torch.tensor(int(self.annotations.iloc[index,1]))\n",
    "        \n",
    "        if self.transform:\n",
    "            image=self.transform(image)\n",
    "            \n",
    "        return (image,label)"
   ]
  },
  {
   "cell_type": "code",
   "execution_count": 6,
   "id": "0b2d045e",
   "metadata": {},
   "outputs": [],
   "source": [
    "annoted_file=\"C:/Users/HP/Py Code/NN/Pytorch/Pytorch/data/dogs-vs-cats/cats_dogs.csv\"\n",
    "root_dir=\"C:/Users/HP/Py Code/NN/Pytorch/Pytorch/data/dogs-vs-cats/cats_dogs_resized\""
   ]
  },
  {
   "cell_type": "code",
   "execution_count": 8,
   "id": "98b4844f",
   "metadata": {},
   "outputs": [],
   "source": [
    "dataset = CustomData1(annoted_file, root_dir, transform)"
   ]
  },
  {
   "cell_type": "code",
   "execution_count": 9,
   "id": "f9ab36d9",
   "metadata": {},
   "outputs": [],
   "source": [
    "trainset, testset= torch.utils.data.random_split(dataset, [5,5])"
   ]
  },
  {
   "cell_type": "code",
   "execution_count": 10,
   "id": "70e0e6ac",
   "metadata": {},
   "outputs": [],
   "source": [
    "trainloader = DataLoader(trainset, batch_size=1,\n",
    "                                         shuffle=True)\n"
   ]
  },
  {
   "cell_type": "code",
   "execution_count": 11,
   "id": "18b6f89a",
   "metadata": {},
   "outputs": [],
   "source": [
    "testloader = DataLoader(testset, batch_size=1,\n",
    "                                         shuffle=False)"
   ]
  },
  {
   "cell_type": "code",
   "execution_count": 12,
   "id": "fb9badf6",
   "metadata": {},
   "outputs": [
    {
     "name": "stderr",
     "output_type": "stream",
     "text": [
      "Downloading: \"https://download.pytorch.org/models/googlenet-1378be20.pth\" to C:\\Users\\HP/.cache\\torch\\hub\\checkpoints\\googlenet-1378be20.pth\n",
      "100%|██████████████████████████████████████████████████████████████████████████████| 49.7M/49.7M [00:56<00:00, 926kB/s]\n"
     ]
    }
   ],
   "source": [
    "model = torchvision.models.googlenet(weights=\"DEFAULT\")\n"
   ]
  },
  {
   "cell_type": "code",
   "execution_count": 13,
   "id": "0ce20ee8",
   "metadata": {},
   "outputs": [],
   "source": [
    "for param in model.parameters():\n",
    "    param.requires_grad = False"
   ]
  },
  {
   "cell_type": "code",
   "execution_count": 14,
   "id": "e78a0b70",
   "metadata": {},
   "outputs": [],
   "source": [
    "model.fc=nn.Linear(1024,2)"
   ]
  },
  {
   "cell_type": "code",
   "execution_count": 15,
   "id": "d79f1f43",
   "metadata": {},
   "outputs": [],
   "source": [
    "criterion = nn.CrossEntropyLoss()\n",
    "optimizer = optim.SGD(model.fc.parameters(), lr=0.001)"
   ]
  },
  {
   "cell_type": "code",
   "execution_count": 18,
   "id": "4e329ed4",
   "metadata": {},
   "outputs": [
    {
     "name": "stdout",
     "output_type": "stream",
     "text": [
      "epoch: 1 loss:0.591\n",
      "epoch: 2 loss:0.753\n",
      "epoch: 3 loss:0.674\n",
      "epoch: 4 loss:0.638\n",
      "epoch: 5 loss:0.696\n",
      "epoch: 6 loss:0.645\n",
      "epoch: 7 loss:0.638\n",
      "epoch: 8 loss:0.637\n",
      "epoch: 9 loss:0.704\n",
      "epoch: 10 loss:0.643\n",
      "Finished training of images (5 batches)\n"
     ]
    }
   ],
   "source": [
    "for epoch in range(10):\n",
    "    total_loss=0.0\n",
    "    batch=0\n",
    "    for batch, (inputs,labels) in enumerate(trainloader):\n",
    "    \n",
    "        pred= model(inputs)\n",
    "        loss=criterion(pred,labels)\n",
    "        \n",
    "        loss.backward()\n",
    "        optimizer.step()\n",
    "        optimizer.zero_grad()\n",
    "        total_loss += loss.item() #per epoch\n",
    "        \n",
    "    print(f'epoch: {epoch+1} loss:{total_loss/batch:.3f}')\n",
    "            \n",
    "    \n",
    "print(\"Finished training of images (5 batches)\")\n",
    "    "
   ]
  },
  {
   "cell_type": "code",
   "execution_count": null,
   "id": "7ccb24ca",
   "metadata": {},
   "outputs": [],
   "source": [
    "correct=0.0\n",
    "total=0.0\n",
    "\n",
    "with torch.no_grad():\n",
    "    for images, labels in testloader:\n",
    "        outputs= model(images)\n",
    "        _, pred= torch.max(outputs.data,1)\n",
    "        total+= labels.size(0)\n",
    "        correct += (pred == labels).sum().item()\n",
    "    print(total)\n",
    "    print(correct)\n",
    "print(f'Accuracy of model (5 batches): {100 * correct // total} %')        "
   ]
  }
 ],
 "metadata": {
  "kernelspec": {
   "display_name": "Python 3 (ipykernel)",
   "language": "python",
   "name": "python3"
  },
  "language_info": {
   "codemirror_mode": {
    "name": "ipython",
    "version": 3
   },
   "file_extension": ".py",
   "mimetype": "text/x-python",
   "name": "python",
   "nbconvert_exporter": "python",
   "pygments_lexer": "ipython3",
   "version": "3.9.13"
  }
 },
 "nbformat": 4,
 "nbformat_minor": 5
}
