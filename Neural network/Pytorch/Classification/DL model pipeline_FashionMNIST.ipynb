{
 "cells": [
  {
   "cell_type": "code",
   "execution_count": 44,
   "metadata": {
    "executionInfo": {
     "elapsed": 348,
     "status": "ok",
     "timestamp": 1694072931604,
     "user": {
      "displayName": "Nasima Islam Bithi",
      "userId": "07730572757890972820"
     },
     "user_tz": -360
    },
    "id": "Ljnqpyq4Lqr9"
   },
   "outputs": [],
   "source": [
    "import torch\n",
    "import torch.nn as nn\n",
    "import torch.nn.functional as F\n",
    "import torch.optim as optim\n",
    "import matplotlib.pyplot as plt\n",
    "from torchvision import datasets,transforms\n",
    "from torch.optim.lr_scheduler import StepLR\n",
    "from sklearn.metrics import confusion_matrix,classification_report,accuracy_score, precision_score, recall_score, f1_score, precision_recall_curve, average_precision_score\n",
    "import numpy as np\n",
    "import matplotlib.pyplot as plt\n",
    "import seaborn as sns\n",
    "from torchvision.transforms import RandomHorizontalFlip, RandomRotation, RandomCrop, ColorJitter, GaussianBlur, RandomVerticalFlip"
   ]
  },
  {
   "cell_type": "markdown",
   "metadata": {
    "id": "bRmdfHIrLxMG"
   },
   "source": [
    "# **Image augmentation**"
   ]
  },
  {
   "cell_type": "code",
   "execution_count": 19,
   "metadata": {
    "executionInfo": {
     "elapsed": 355,
     "status": "ok",
     "timestamp": 1694074296293,
     "user": {
      "displayName": "Nasima Islam Bithi",
      "userId": "07730572757890972820"
     },
     "user_tz": -360
    },
    "id": "ekCeNe0XMVNf"
   },
   "outputs": [],
   "source": [
    "\n",
    "transform = transforms.Compose([\n",
    "    RandomHorizontalFlip(),\n",
    "    RandomVerticalFlip(),\n",
    "    RandomRotation(degrees=15),\n",
    "    ColorJitter(brightness=0.1, contrast=0.1, saturation=0.1, hue=0.1),\n",
    "    GaussianBlur(kernel_size=3),\n",
    "    transforms.ToTensor(),\n",
    "    transforms.Normalize((0.1307),(0.3081))\n",
    "])\n"
   ]
  },
  {
   "cell_type": "markdown",
   "metadata": {
    "id": "h_tYIwk7nidO"
   },
   "source": [
    "# **Dataloader**"
   ]
  },
  {
   "cell_type": "code",
   "execution_count": 20,
   "metadata": {
    "executionInfo": {
     "elapsed": 571,
     "status": "ok",
     "timestamp": 1694074348549,
     "user": {
      "displayName": "Nasima Islam Bithi",
      "userId": "07730572757890972820"
     },
     "user_tz": -360
    },
    "id": "jTqAZPAmMfPg"
   },
   "outputs": [],
   "source": [
    "train_df=datasets.FashionMNIST('./data',train=True,download=True,transform=transform)\n",
    "test_df=datasets.FashionMNIST('./data',train=False,transform=transform)\n",
    "train_df_load=torch.utils.data.DataLoader(train_df,batch_size=32,shuffle=True)\n",
    "test_df_load=torch.utils.data.DataLoader(test_df,batch_size=32)\n"
   ]
  },
  {
   "cell_type": "code",
   "execution_count": 21,
   "metadata": {},
   "outputs": [
    {
     "name": "stdout",
     "output_type": "stream",
     "text": [
      "torch.Size([32, 1, 28, 28])\n"
     ]
    }
   ],
   "source": [
    "for X,y in train_df_load:\n",
    "    print(X.shape)\n",
    "    break"
   ]
  },
  {
   "cell_type": "markdown",
   "metadata": {
    "id": "8bPWDYLnnoc1"
   },
   "source": [
    "# **Model**"
   ]
  },
  {
   "cell_type": "markdown",
   "metadata": {
    "id": "Idpr8KgDnwWF"
   },
   "source": [
    "#Architecture\n",
    "*   Conv2d -> ReLU\n",
    "*   Conv2d -> BatchNorm2d -> ReLU -> Maxpool2d \n",
    "*   flatten\n",
    "*   dropout -> FC Linear -> BatchNorm1d -> ReLU \n",
    "*   dropout -> FC Linear "
   ]
  },
  {
   "cell_type": "code",
   "execution_count": 22,
   "metadata": {
    "executionInfo": {
     "elapsed": 360,
     "status": "ok",
     "timestamp": 1694074375766,
     "user": {
      "displayName": "Nasima Islam Bithi",
      "userId": "07730572757890972820"
     },
     "user_tz": -360
    },
    "id": "nHlDlglwMvsv"
   },
   "outputs": [],
   "source": [
    "class FashionMNIST_Net(nn.Module):#a class named FashionMNIST_Net is defined, and it inherits from nn.Module\n",
    "    def __init__(self):\n",
    "        super(FashionMNIST_Net, self).__init__()\n",
    "        self.conv1 = nn.Conv2d(1, 32, 3)\n",
    "        self.conv2 = nn.Conv2d(32, 64, 3)\n",
    "        self.bn1=nn.BatchNorm2d(64)\n",
    "        self.dropout1 = nn.Dropout(0.25)\n",
    "        self.dropout2 = nn.Dropout(0.5)\n",
    "        self.fc1 = nn.Linear(64*12*12, 128)\n",
    "        self.bn2=nn.BatchNorm1d(128)\n",
    "        self.fc2 = nn.Linear(128, 10)\n",
    "\n",
    "    def forward(self, x):\n",
    "        x = self.conv1(x)\n",
    "        x = F.relu(x)\n",
    "\n",
    "        x = self.conv2(x)\n",
    "        x=  self.bn1(x)\n",
    "        x = F.relu(x)\n",
    "        x = F.max_pool2d(x, 2)\n",
    "        \n",
    "        x = torch.flatten(x, 1)\n",
    "        x = self.dropout1(x)\n",
    "        x = self.fc1(x)\n",
    "        x =  self.bn2(x)\n",
    "        x = F.relu(x)\n",
    "        x = self.dropout2(x)\n",
    "        x = self.fc2(x)\n",
    "        return x"
   ]
  },
  {
   "cell_type": "code",
   "execution_count": 23,
   "metadata": {
    "colab": {
     "base_uri": "https://localhost:8080/"
    },
    "executionInfo": {
     "elapsed": 5,
     "status": "ok",
     "timestamp": 1694074378463,
     "user": {
      "displayName": "Nasima Islam Bithi",
      "userId": "07730572757890972820"
     },
     "user_tz": -360
    },
    "id": "7dJKFu4JNyOH",
    "outputId": "ba1f3c8f-fbfc-498e-c9c6-5cfab7e34263"
   },
   "outputs": [
    {
     "data": {
      "text/plain": [
       "FashionMNIST_Net(\n",
       "  (conv1): Conv2d(1, 32, kernel_size=(3, 3), stride=(1, 1))\n",
       "  (conv2): Conv2d(32, 64, kernel_size=(3, 3), stride=(1, 1))\n",
       "  (bn1): BatchNorm2d(64, eps=1e-05, momentum=0.1, affine=True, track_running_stats=True)\n",
       "  (dropout1): Dropout(p=0.25, inplace=False)\n",
       "  (dropout2): Dropout(p=0.5, inplace=False)\n",
       "  (fc1): Linear(in_features=9216, out_features=128, bias=True)\n",
       "  (bn2): BatchNorm1d(128, eps=1e-05, momentum=0.1, affine=True, track_running_stats=True)\n",
       "  (fc2): Linear(in_features=128, out_features=10, bias=True)\n",
       ")"
      ]
     },
     "execution_count": 23,
     "metadata": {},
     "output_type": "execute_result"
    }
   ],
   "source": [
    "model =FashionMNIST_Net()\n",
    "model"
   ]
  },
  {
   "cell_type": "markdown",
   "metadata": {
    "id": "VdzmCodOpwN9"
   },
   "source": [
    "# Model parameter"
   ]
  },
  {
   "cell_type": "code",
   "execution_count": 24,
   "metadata": {
    "id": "9xY6GqFGZFLP"
   },
   "outputs": [
    {
     "name": "stdout",
     "output_type": "stream",
     "text": [
      "conv1.weight tensor([[[[-2.8353e-01, -2.8583e-01,  5.0474e-02],\n",
      "          [ 5.1866e-02, -2.2747e-01, -1.1450e-01],\n",
      "          [ 1.0786e-01,  1.3504e-01,  1.4082e-01]]],\n",
      "\n",
      "\n",
      "        [[[-5.3365e-02,  6.8607e-02, -2.5619e-01],\n",
      "          [ 2.6437e-01,  1.3942e-02,  2.0444e-01],\n",
      "          [ 1.5183e-01,  2.6353e-02, -1.9231e-01]]],\n",
      "\n",
      "\n",
      "        [[[-9.4500e-02,  2.1964e-01, -1.6455e-01],\n",
      "          [-2.5727e-01, -1.8192e-01, -6.0013e-02],\n",
      "          [ 7.4381e-02, -2.0938e-01,  7.1652e-02]]],\n",
      "\n",
      "\n",
      "        [[[-1.6274e-01,  8.8464e-02, -9.1228e-03],\n",
      "          [ 1.2097e-01,  1.3575e-01, -3.2707e-01],\n",
      "          [-1.2813e-01,  1.3275e-01,  1.8734e-01]]],\n",
      "\n",
      "\n",
      "        [[[ 1.1191e-01, -1.9725e-02, -6.9302e-02],\n",
      "          [ 8.0570e-02, -9.6195e-02, -2.0552e-01],\n",
      "          [ 3.3332e-01, -1.0521e-01,  1.2079e-01]]],\n",
      "\n",
      "\n",
      "        [[[ 1.5080e-01,  3.1242e-02, -2.9928e-01],\n",
      "          [-2.5155e-01, -1.7113e-01, -2.0669e-01],\n",
      "          [ 2.7303e-02, -1.6197e-01,  2.3896e-01]]],\n",
      "\n",
      "\n",
      "        [[[ 1.6170e-01,  1.8741e-02, -2.3262e-01],\n",
      "          [-2.0594e-01,  1.4324e-01, -4.4416e-02],\n",
      "          [ 1.6836e-01, -1.3706e-01, -1.3654e-03]]],\n",
      "\n",
      "\n",
      "        [[[ 2.2037e-01, -1.8249e-01,  1.2197e-01],\n",
      "          [ 1.7025e-01,  1.4564e-01,  1.9820e-01],\n",
      "          [ 2.8551e-01, -3.0447e-01,  2.6243e-01]]],\n",
      "\n",
      "\n",
      "        [[[-3.7292e-02, -1.7545e-01, -2.3532e-01],\n",
      "          [-1.4744e-01,  1.9476e-01, -5.0564e-02],\n",
      "          [-1.5918e-01, -1.7123e-01,  1.3769e-01]]],\n",
      "\n",
      "\n",
      "        [[[ 8.0949e-02, -9.8280e-02,  2.9340e-01],\n",
      "          [ 2.8356e-01,  1.5610e-01, -4.4276e-03],\n",
      "          [ 5.4227e-02,  8.3808e-02,  1.6773e-01]]],\n",
      "\n",
      "\n",
      "        [[[ 1.2482e-01,  8.6247e-02, -3.0352e-01],\n",
      "          [-2.8602e-01, -2.2898e-01,  1.8160e-01],\n",
      "          [-6.1990e-02, -1.9744e-01, -2.7549e-01]]],\n",
      "\n",
      "\n",
      "        [[[-6.1396e-02,  2.6252e-02, -1.2102e-01],\n",
      "          [ 4.3435e-02, -3.0382e-01, -1.4652e-02],\n",
      "          [ 4.8823e-02,  1.2971e-01, -2.4335e-01]]],\n",
      "\n",
      "\n",
      "        [[[-1.4055e-02, -4.2979e-03, -1.2501e-02],\n",
      "          [ 3.0856e-01,  1.2276e-01, -1.0395e-01],\n",
      "          [ 2.4276e-01, -7.9836e-03, -1.9876e-01]]],\n",
      "\n",
      "\n",
      "        [[[ 2.5544e-01,  1.0930e-01,  7.5510e-02],\n",
      "          [-1.2502e-01, -1.6391e-01, -3.8656e-02],\n",
      "          [ 6.1954e-02, -1.4679e-03,  1.5314e-01]]],\n",
      "\n",
      "\n",
      "        [[[-2.3734e-01, -1.2072e-02,  2.1266e-01],\n",
      "          [-1.5362e-01,  1.3800e-01,  2.4860e-01],\n",
      "          [-1.9911e-01, -2.7348e-01,  1.0830e-01]]],\n",
      "\n",
      "\n",
      "        [[[ 1.3022e-01, -5.8994e-02,  1.8673e-01],\n",
      "          [ 3.1914e-01,  7.6493e-02,  2.6328e-01],\n",
      "          [ 3.2116e-01,  7.1109e-02, -6.8892e-03]]],\n",
      "\n",
      "\n",
      "        [[[-8.0072e-02,  7.9750e-02, -1.3148e-01],\n",
      "          [-2.8701e-01,  3.2129e-01, -2.0176e-01],\n",
      "          [ 5.8725e-02,  2.1981e-01,  1.3167e-02]]],\n",
      "\n",
      "\n",
      "        [[[-1.6728e-01, -7.4333e-02,  2.1512e-01],\n",
      "          [-4.7365e-02, -3.1469e-01,  2.8498e-01],\n",
      "          [-3.0775e-01,  1.9781e-01,  2.1080e-02]]],\n",
      "\n",
      "\n",
      "        [[[-8.3161e-02, -1.4646e-01, -3.0528e-02],\n",
      "          [ 3.2707e-01,  1.6714e-01,  2.6866e-01],\n",
      "          [ 1.9040e-01, -1.6338e-01, -2.8184e-01]]],\n",
      "\n",
      "\n",
      "        [[[-7.3906e-02, -1.4397e-01,  2.4613e-01],\n",
      "          [-1.5857e-01, -3.9010e-03,  3.0676e-01],\n",
      "          [-7.5270e-02,  1.5723e-01, -8.2570e-02]]],\n",
      "\n",
      "\n",
      "        [[[-2.6611e-01,  1.8658e-01,  2.7671e-01],\n",
      "          [ 1.2806e-01,  3.1864e-01,  1.6592e-01],\n",
      "          [ 2.7638e-01, -7.6547e-02,  2.1543e-01]]],\n",
      "\n",
      "\n",
      "        [[[-1.9981e-01, -3.1966e-01,  1.2488e-01],\n",
      "          [-8.7814e-02, -2.6853e-01,  5.5506e-02],\n",
      "          [ 1.9266e-03,  2.6919e-01, -2.5202e-01]]],\n",
      "\n",
      "\n",
      "        [[[-1.0893e-01,  2.8273e-01,  2.1953e-02],\n",
      "          [-1.7546e-01,  2.3241e-01, -3.1852e-01],\n",
      "          [ 1.8599e-02,  1.7261e-01, -2.1578e-01]]],\n",
      "\n",
      "\n",
      "        [[[ 2.2092e-01, -2.1329e-01,  2.2270e-01],\n",
      "          [-1.4566e-01, -3.0895e-01,  6.2615e-05],\n",
      "          [-4.4293e-02, -1.4360e-01,  2.1036e-01]]],\n",
      "\n",
      "\n",
      "        [[[ 2.6797e-01,  2.2434e-01, -4.1880e-02],\n",
      "          [ 1.0880e-01,  3.7623e-02,  1.1271e-01],\n",
      "          [ 1.7323e-01,  1.2777e-01, -1.9269e-01]]],\n",
      "\n",
      "\n",
      "        [[[-9.6086e-02,  1.1534e-01,  3.3062e-01],\n",
      "          [ 1.8931e-01, -1.9901e-01,  1.0339e-01],\n",
      "          [-1.8851e-01, -6.4623e-02, -2.1655e-01]]],\n",
      "\n",
      "\n",
      "        [[[-1.7311e-01, -2.6534e-01, -2.6952e-01],\n",
      "          [-9.1488e-02, -3.2643e-02, -1.9212e-01],\n",
      "          [-2.0194e-01,  1.0074e-01,  2.2922e-01]]],\n",
      "\n",
      "\n",
      "        [[[-2.6956e-01,  2.1549e-03,  2.3331e-01],\n",
      "          [-1.2486e-02, -8.9559e-02, -2.8577e-02],\n",
      "          [-4.1622e-02,  1.4623e-01,  4.1421e-02]]],\n",
      "\n",
      "\n",
      "        [[[-2.1143e-01, -1.9674e-01, -1.8095e-01],\n",
      "          [ 2.6038e-01,  1.6583e-01, -2.4683e-02],\n",
      "          [-1.9807e-01, -2.4727e-01,  2.9767e-01]]],\n",
      "\n",
      "\n",
      "        [[[-2.9453e-01,  9.6509e-02, -1.8770e-01],\n",
      "          [-3.3279e-01,  2.6642e-01, -4.8539e-02],\n",
      "          [-1.3773e-01, -1.0021e-01, -1.7154e-01]]],\n",
      "\n",
      "\n",
      "        [[[-5.3477e-02,  2.7544e-01,  2.8174e-01],\n",
      "          [-3.1183e-01,  2.1416e-01,  1.2361e-02],\n",
      "          [-2.7455e-01, -2.1376e-01,  7.3074e-02]]],\n",
      "\n",
      "\n",
      "        [[[-2.8182e-01,  1.4824e-01,  4.0133e-02],\n",
      "          [ 1.4525e-01, -9.6096e-03, -1.2773e-01],\n",
      "          [-1.2082e-01,  2.0889e-01, -1.0412e-01]]]])\n",
      "conv1.bias tensor([-0.1724, -0.0999, -0.1821, -0.1653,  0.0824,  0.0905,  0.2961,  0.2780,\n",
      "         0.1264,  0.2889,  0.1859,  0.0475, -0.1681, -0.1543, -0.3283,  0.0830,\n",
      "        -0.0573, -0.2652, -0.0577,  0.2021, -0.2463,  0.2602, -0.3056,  0.2680,\n",
      "         0.3275,  0.0711, -0.2385, -0.2643, -0.1586,  0.1446,  0.1060, -0.0814])\n",
      "conv2.weight tensor([[[[-0.0202, -0.0121, -0.0503],\n",
      "          [ 0.0532,  0.0252,  0.0125],\n",
      "          [-0.0052,  0.0388,  0.0029]],\n",
      "\n",
      "         [[-0.0444, -0.0164,  0.0102],\n",
      "          [-0.0102,  0.0289,  0.0178],\n",
      "          [ 0.0379, -0.0481, -0.0542]],\n",
      "\n",
      "         [[-0.0419, -0.0492, -0.0470],\n",
      "          [ 0.0207, -0.0484,  0.0170],\n",
      "          [-0.0475, -0.0545,  0.0227]],\n",
      "\n",
      "         ...,\n",
      "\n",
      "         [[ 0.0341,  0.0459, -0.0458],\n",
      "          [-0.0393,  0.0552,  0.0276],\n",
      "          [ 0.0382,  0.0284, -0.0096]],\n",
      "\n",
      "         [[-0.0537, -0.0225, -0.0553],\n",
      "          [ 0.0494, -0.0556, -0.0275],\n",
      "          [ 0.0410, -0.0390, -0.0216]],\n",
      "\n",
      "         [[-0.0138,  0.0511,  0.0394],\n",
      "          [ 0.0458,  0.0331,  0.0201],\n",
      "          [ 0.0571, -0.0029,  0.0006]]],\n",
      "\n",
      "\n",
      "        [[[-0.0324,  0.0356, -0.0033],\n",
      "          [-0.0301,  0.0560, -0.0273],\n",
      "          [ 0.0288, -0.0109,  0.0156]],\n",
      "\n",
      "         [[-0.0091, -0.0489,  0.0041],\n",
      "          [-0.0094,  0.0184,  0.0006],\n",
      "          [-0.0298, -0.0425, -0.0425]],\n",
      "\n",
      "         [[ 0.0088, -0.0069, -0.0371],\n",
      "          [ 0.0288, -0.0161, -0.0121],\n",
      "          [ 0.0365, -0.0319,  0.0540]],\n",
      "\n",
      "         ...,\n",
      "\n",
      "         [[ 0.0494,  0.0093,  0.0184],\n",
      "          [ 0.0141,  0.0407,  0.0422],\n",
      "          [-0.0527, -0.0380, -0.0345]],\n",
      "\n",
      "         [[ 0.0363,  0.0389, -0.0454],\n",
      "          [ 0.0087, -0.0349, -0.0502],\n",
      "          [ 0.0180,  0.0024, -0.0391]],\n",
      "\n",
      "         [[-0.0139,  0.0453, -0.0145],\n",
      "          [-0.0416, -0.0582,  0.0220],\n",
      "          [-0.0162, -0.0455,  0.0340]]],\n",
      "\n",
      "\n",
      "        [[[ 0.0249,  0.0490, -0.0453],\n",
      "          [ 0.0569, -0.0531, -0.0002],\n",
      "          [ 0.0289, -0.0495, -0.0303]],\n",
      "\n",
      "         [[-0.0432, -0.0017,  0.0059],\n",
      "          [-0.0014,  0.0382,  0.0585],\n",
      "          [-0.0454,  0.0486, -0.0146]],\n",
      "\n",
      "         [[-0.0266,  0.0190,  0.0366],\n",
      "          [ 0.0312, -0.0419, -0.0231],\n",
      "          [ 0.0047,  0.0246,  0.0043]],\n",
      "\n",
      "         ...,\n",
      "\n",
      "         [[ 0.0480,  0.0525, -0.0423],\n",
      "          [-0.0050,  0.0217, -0.0521],\n",
      "          [-0.0343, -0.0572,  0.0240]],\n",
      "\n",
      "         [[ 0.0248,  0.0105,  0.0572],\n",
      "          [ 0.0141,  0.0062,  0.0541],\n",
      "          [-0.0310,  0.0553, -0.0439]],\n",
      "\n",
      "         [[ 0.0550, -0.0218,  0.0485],\n",
      "          [ 0.0528, -0.0254,  0.0448],\n",
      "          [-0.0276, -0.0050,  0.0040]]],\n",
      "\n",
      "\n",
      "        ...,\n",
      "\n",
      "\n",
      "        [[[ 0.0486, -0.0240,  0.0551],\n",
      "          [-0.0042,  0.0084, -0.0198],\n",
      "          [ 0.0269, -0.0383, -0.0004]],\n",
      "\n",
      "         [[-0.0586,  0.0406, -0.0047],\n",
      "          [ 0.0499, -0.0115,  0.0416],\n",
      "          [-0.0187,  0.0074, -0.0367]],\n",
      "\n",
      "         [[-0.0371,  0.0110, -0.0050],\n",
      "          [ 0.0422, -0.0477, -0.0354],\n",
      "          [ 0.0371, -0.0222,  0.0486]],\n",
      "\n",
      "         ...,\n",
      "\n",
      "         [[-0.0480,  0.0405,  0.0201],\n",
      "          [-0.0365,  0.0097,  0.0303],\n",
      "          [ 0.0311,  0.0469,  0.0524]],\n",
      "\n",
      "         [[-0.0018, -0.0435, -0.0155],\n",
      "          [-0.0380, -0.0193,  0.0393],\n",
      "          [ 0.0389,  0.0421,  0.0328]],\n",
      "\n",
      "         [[-0.0037,  0.0272, -0.0284],\n",
      "          [ 0.0313,  0.0509, -0.0137],\n",
      "          [ 0.0365, -0.0206, -0.0511]]],\n",
      "\n",
      "\n",
      "        [[[ 0.0414,  0.0119,  0.0285],\n",
      "          [ 0.0420, -0.0469, -0.0079],\n",
      "          [ 0.0137, -0.0005, -0.0259]],\n",
      "\n",
      "         [[ 0.0253, -0.0238,  0.0290],\n",
      "          [-0.0579, -0.0404,  0.0562],\n",
      "          [-0.0434,  0.0348, -0.0110]],\n",
      "\n",
      "         [[ 0.0522,  0.0429,  0.0584],\n",
      "          [ 0.0299, -0.0506,  0.0316],\n",
      "          [ 0.0508,  0.0091, -0.0469]],\n",
      "\n",
      "         ...,\n",
      "\n",
      "         [[ 0.0541,  0.0267,  0.0311],\n",
      "          [ 0.0341,  0.0391,  0.0469],\n",
      "          [-0.0140, -0.0574,  0.0233]],\n",
      "\n",
      "         [[ 0.0512, -0.0306,  0.0244],\n",
      "          [-0.0488,  0.0407, -0.0019],\n",
      "          [-0.0040,  0.0166,  0.0310]],\n",
      "\n",
      "         [[ 0.0549,  0.0398,  0.0062],\n",
      "          [-0.0339, -0.0538,  0.0491],\n",
      "          [ 0.0247, -0.0151, -0.0093]]],\n",
      "\n",
      "\n",
      "        [[[-0.0362,  0.0431,  0.0407],\n",
      "          [-0.0145,  0.0364, -0.0435],\n",
      "          [ 0.0317, -0.0385,  0.0137]],\n",
      "\n",
      "         [[-0.0024, -0.0076, -0.0150],\n",
      "          [ 0.0382, -0.0393,  0.0555],\n",
      "          [ 0.0337, -0.0347, -0.0573]],\n",
      "\n",
      "         [[-0.0425, -0.0250, -0.0308],\n",
      "          [ 0.0082, -0.0263, -0.0367],\n",
      "          [-0.0140, -0.0421, -0.0543]],\n",
      "\n",
      "         ...,\n",
      "\n",
      "         [[-0.0089, -0.0375, -0.0287],\n",
      "          [ 0.0112, -0.0211,  0.0334],\n",
      "          [ 0.0400,  0.0230, -0.0111]],\n",
      "\n",
      "         [[ 0.0026,  0.0406, -0.0083],\n",
      "          [ 0.0291,  0.0284,  0.0381],\n",
      "          [ 0.0272,  0.0467, -0.0106]],\n",
      "\n",
      "         [[-0.0064, -0.0283,  0.0032],\n",
      "          [-0.0102, -0.0256,  0.0026],\n",
      "          [-0.0563, -0.0220, -0.0283]]]])\n",
      "conv2.bias tensor([ 0.0285,  0.0110, -0.0458, -0.0252,  0.0353,  0.0183,  0.0213,  0.0447,\n",
      "        -0.0291,  0.0193, -0.0127, -0.0056, -0.0256,  0.0556, -0.0395, -0.0513,\n",
      "        -0.0512,  0.0281, -0.0194, -0.0367, -0.0214,  0.0501, -0.0186, -0.0249,\n",
      "        -0.0471,  0.0006, -0.0386,  0.0352, -0.0173, -0.0346,  0.0480, -0.0057,\n",
      "         0.0249,  0.0156, -0.0131,  0.0264, -0.0271, -0.0098, -0.0587, -0.0463,\n",
      "        -0.0098, -0.0199,  0.0470,  0.0110, -0.0467, -0.0003,  0.0445,  0.0169,\n",
      "        -0.0562,  0.0157,  0.0014, -0.0537, -0.0029,  0.0237, -0.0317,  0.0225,\n",
      "         0.0264, -0.0501, -0.0423, -0.0074,  0.0549,  0.0273, -0.0170, -0.0343])\n",
      "bn1.weight tensor([1., 1., 1., 1., 1., 1., 1., 1., 1., 1., 1., 1., 1., 1., 1., 1., 1., 1.,\n",
      "        1., 1., 1., 1., 1., 1., 1., 1., 1., 1., 1., 1., 1., 1., 1., 1., 1., 1.,\n",
      "        1., 1., 1., 1., 1., 1., 1., 1., 1., 1., 1., 1., 1., 1., 1., 1., 1., 1.,\n",
      "        1., 1., 1., 1., 1., 1., 1., 1., 1., 1.])\n",
      "bn1.bias tensor([0., 0., 0., 0., 0., 0., 0., 0., 0., 0., 0., 0., 0., 0., 0., 0., 0., 0., 0., 0., 0., 0., 0., 0.,\n",
      "        0., 0., 0., 0., 0., 0., 0., 0., 0., 0., 0., 0., 0., 0., 0., 0., 0., 0., 0., 0., 0., 0., 0., 0.,\n",
      "        0., 0., 0., 0., 0., 0., 0., 0., 0., 0., 0., 0., 0., 0., 0., 0.])\n",
      "fc1.weight tensor([[ 0.0060, -0.0046,  0.0072,  ..., -0.0050,  0.0079, -0.0082],\n",
      "        [ 0.0037,  0.0042,  0.0039,  ...,  0.0008, -0.0038,  0.0048],\n",
      "        [ 0.0090,  0.0091, -0.0074,  ...,  0.0057, -0.0069,  0.0096],\n",
      "        ...,\n",
      "        [-0.0097, -0.0086,  0.0019,  ..., -0.0025, -0.0006,  0.0061],\n",
      "        [-0.0058, -0.0051, -0.0066,  ..., -0.0014,  0.0036, -0.0058],\n",
      "        [-0.0065, -0.0088, -0.0018,  ...,  0.0084, -0.0077, -0.0047]])\n",
      "fc1.bias tensor([-1.4903e-04, -2.4293e-03, -7.5144e-04, -5.0850e-03, -5.7779e-03,\n",
      "        -4.7916e-03, -1.0063e-03, -6.6510e-03,  6.1255e-03, -2.4712e-03,\n",
      "         2.7721e-03,  4.0451e-03,  8.9273e-03,  7.6860e-03,  7.2825e-04,\n",
      "        -3.0043e-03,  6.8373e-03, -2.3278e-03, -7.3646e-03,  6.5810e-03,\n",
      "        -9.5579e-03,  3.2216e-03,  6.2805e-03, -2.9342e-03,  6.9264e-03,\n",
      "         3.5299e-03,  1.1428e-03,  5.0056e-03, -3.8611e-03, -5.7244e-03,\n",
      "        -5.6237e-05, -5.3211e-04,  1.6434e-04,  1.0038e-02, -8.9238e-03,\n",
      "         2.7256e-03,  3.8352e-03,  2.7618e-03, -3.9392e-03,  1.3408e-03,\n",
      "         3.0528e-03,  4.3446e-03, -3.8298e-03,  1.6226e-03,  1.0017e-02,\n",
      "         1.9783e-03, -4.1826e-03,  7.6766e-03,  4.3037e-03,  9.2564e-03,\n",
      "         1.0619e-03,  3.7281e-03, -7.7867e-03, -9.6634e-03, -3.9683e-03,\n",
      "        -6.9231e-03, -3.4618e-04, -1.0407e-02,  1.6428e-03, -2.3903e-03,\n",
      "        -8.6280e-03,  8.1382e-03,  7.9868e-03, -6.0529e-04, -6.6341e-03,\n",
      "        -6.2539e-03,  9.5471e-05,  1.2795e-03,  6.7244e-03,  7.2346e-03,\n",
      "         8.5797e-03,  7.6411e-03, -2.6697e-03, -7.1732e-03, -5.7179e-03,\n",
      "        -3.8589e-03,  7.4089e-03,  2.3652e-03,  2.5071e-03, -9.3056e-03,\n",
      "        -1.0288e-02, -2.8673e-03,  4.4423e-03, -7.6045e-03,  7.2301e-03,\n",
      "        -1.3845e-03,  4.2284e-03,  9.9794e-03, -9.5055e-03, -4.9802e-03,\n",
      "        -1.8841e-03,  3.5883e-03,  5.8391e-03, -8.9424e-03,  3.8070e-03,\n",
      "         5.2087e-03, -1.2290e-03, -5.1828e-03, -7.7236e-03,  6.3679e-03,\n",
      "         2.9723e-03, -3.5421e-03,  9.2853e-03, -5.0864e-03, -9.7966e-03,\n",
      "         7.4374e-03,  1.4618e-03, -5.7791e-03,  9.3720e-03,  3.3074e-03,\n",
      "        -3.1459e-03,  3.3583e-03,  6.5231e-03, -6.2694e-03,  7.1610e-04,\n",
      "        -2.8832e-03, -1.2854e-03,  9.8435e-03, -5.5267e-03,  2.7909e-03,\n",
      "         4.6753e-04,  7.1717e-04,  5.6328e-03,  7.2092e-03,  1.9846e-03,\n",
      "         9.1411e-03, -9.8596e-03, -1.5747e-03])\n",
      "bn2.weight tensor([1., 1., 1., 1., 1., 1., 1., 1., 1., 1., 1., 1., 1., 1., 1., 1., 1., 1.,\n",
      "        1., 1., 1., 1., 1., 1., 1., 1., 1., 1., 1., 1., 1., 1., 1., 1., 1., 1.,\n",
      "        1., 1., 1., 1., 1., 1., 1., 1., 1., 1., 1., 1., 1., 1., 1., 1., 1., 1.,\n",
      "        1., 1., 1., 1., 1., 1., 1., 1., 1., 1., 1., 1., 1., 1., 1., 1., 1., 1.,\n",
      "        1., 1., 1., 1., 1., 1., 1., 1., 1., 1., 1., 1., 1., 1., 1., 1., 1., 1.,\n",
      "        1., 1., 1., 1., 1., 1., 1., 1., 1., 1., 1., 1., 1., 1., 1., 1., 1., 1.,\n",
      "        1., 1., 1., 1., 1., 1., 1., 1., 1., 1., 1., 1., 1., 1., 1., 1., 1., 1.,\n",
      "        1., 1.])\n",
      "bn2.bias tensor([0., 0., 0., 0., 0., 0., 0., 0., 0., 0., 0., 0., 0., 0., 0., 0., 0., 0., 0., 0., 0., 0., 0., 0.,\n",
      "        0., 0., 0., 0., 0., 0., 0., 0., 0., 0., 0., 0., 0., 0., 0., 0., 0., 0., 0., 0., 0., 0., 0., 0.,\n",
      "        0., 0., 0., 0., 0., 0., 0., 0., 0., 0., 0., 0., 0., 0., 0., 0., 0., 0., 0., 0., 0., 0., 0., 0.,\n",
      "        0., 0., 0., 0., 0., 0., 0., 0., 0., 0., 0., 0., 0., 0., 0., 0., 0., 0., 0., 0., 0., 0., 0., 0.,\n",
      "        0., 0., 0., 0., 0., 0., 0., 0., 0., 0., 0., 0., 0., 0., 0., 0., 0., 0., 0., 0., 0., 0., 0., 0.,\n",
      "        0., 0., 0., 0., 0., 0., 0., 0.])\n",
      "fc2.weight tensor([[-0.0217,  0.0766,  0.0184,  ...,  0.0113,  0.0601,  0.0416],\n",
      "        [ 0.0852, -0.0827, -0.0262,  ..., -0.0524,  0.0727,  0.0562],\n",
      "        [ 0.0747, -0.0849,  0.0201,  ...,  0.0811, -0.0107, -0.0614],\n",
      "        ...,\n",
      "        [ 0.0321,  0.0076,  0.0776,  ...,  0.0067, -0.0800,  0.0515],\n",
      "        [-0.0536, -0.0133, -0.0834,  ..., -0.0678, -0.0481,  0.0022],\n",
      "        [ 0.0373,  0.0437, -0.0525,  ..., -0.0665, -0.0205,  0.0822]])\n",
      "fc2.bias tensor([-0.0637,  0.0710,  0.0701,  0.0388,  0.0230, -0.0751,  0.0540,  0.0774,\n",
      "         0.0548, -0.0419])\n"
     ]
    }
   ],
   "source": [
    "for name, param in model.named_parameters(): #model parameter name and values\n",
    "    if param.requires_grad:\n",
    "        print(name, param.data)"
   ]
  },
  {
   "cell_type": "markdown",
   "metadata": {
    "id": "MSOG6AcWp2TF"
   },
   "source": [
    "# Loss function and optimizer"
   ]
  },
  {
   "cell_type": "code",
   "execution_count": 25,
   "metadata": {
    "executionInfo": {
     "elapsed": 352,
     "status": "ok",
     "timestamp": 1694070812515,
     "user": {
      "displayName": "Nasima Islam Bithi",
      "userId": "07730572757890972820"
     },
     "user_tz": -360
    },
    "id": "TKtKaIIDOKyX"
   },
   "outputs": [],
   "source": [
    "loss_fn = nn.CrossEntropyLoss() #for multiclass classification\n",
    "optimizer=optim.SGD(model.parameters(),lr=0.01, weight_decay=0.01, momentum=.9) #L2 regularization #for penalty to the loss function\n",
    "scheduler = torch.optim.lr_scheduler.ExponentialLR(optimizer,gamma=0.1) #to adjust learning rate dynamically"
   ]
  },
  {
   "cell_type": "markdown",
   "metadata": {
    "id": "oE5YzmMDqAzX"
   },
   "source": [
    "# **Training and Validation**"
   ]
  },
  {
   "cell_type": "code",
   "execution_count": 29,
   "metadata": {
    "executionInfo": {
     "elapsed": 384,
     "status": "ok",
     "timestamp": 1694074393035,
     "user": {
      "displayName": "Nasima Islam Bithi",
      "userId": "07730572757890972820"
     },
     "user_tz": -360
    },
    "id": "dlLnA6aqNxZY"
   },
   "outputs": [],
   "source": [
    "lrs=[]\n",
    "def train(model,optimizer,epoch):\n",
    "    model.train()\n",
    "    for batch, (data, target) in enumerate(train_df_load):\n",
    "      \n",
    "        output = model(data) #forward pass\n",
    "        loss =loss_fn(output, target) #loss function\n",
    "        loss.backward() #backward pass #to compute local gradient\n",
    "        optimizer.step() #weight updation\n",
    "        optimizer.zero_grad() #set zero to gradient\n",
    "\n",
    "        lr=optimizer.param_groups[0][\"lr\"]\n",
    "\n",
    "        if batch % 1000 == 0:\n",
    "            print('Train Epoch: {} batch-{}\\tLoss: {:.6f} Learning Rate: {}'.format(epoch, batch ,loss.item(),lr))\n",
    "    lrs.append(lr)"
   ]
  },
  {
   "cell_type": "code",
   "execution_count": 39,
   "metadata": {},
   "outputs": [],
   "source": [
    "true_labels = [] #for confusion matrix\n",
    "predicted_labels = [] #for confusion matrix"
   ]
  },
  {
   "cell_type": "code",
   "execution_count": 32,
   "metadata": {},
   "outputs": [],
   "source": [
    "def test(model):\n",
    "    model.eval()\n",
    "\n",
    "    with torch.no_grad():\n",
    "        correct = 0\n",
    "        total = 0\n",
    "        for images, labels in test_df_load:\n",
    "            \n",
    "            outputs = model(images)\n",
    "            _, predicted = torch.max(outputs, 1)\n",
    "\n",
    "            true_labels.extend(labels.cpu().numpy())\n",
    "            predicted_labels.extend(predicted.cpu().numpy())\n",
    "\n",
    "            total += labels.size(0)\n",
    "            correct += (predicted == labels).sum().item()\n",
    "\n",
    "        accuracy= 100 * correct / total\n",
    "        print('Accuracy of the network on the test images: {} %'.format(accuracy))\n",
    "        top1_error = 100 - accuracy\n",
    "        print('Top-1 Error: {} %'.format(top1_error))\n"
   ]
  },
  {
   "cell_type": "code",
   "execution_count": 34,
   "metadata": {
    "colab": {
     "base_uri": "https://localhost:8080/"
    },
    "executionInfo": {
     "elapsed": 1792905,
     "status": "ok",
     "timestamp": 1694072608256,
     "user": {
      "displayName": "Nasima Islam Bithi",
      "userId": "07730572757890972820"
     },
     "user_tz": -360
    },
    "id": "MKfIWB1WOEyv",
    "outputId": "0271da60-7bd2-4265-aab5-f02a98f11668"
   },
   "outputs": [
    {
     "name": "stdout",
     "output_type": "stream",
     "text": [
      "Train Epoch: 1 batch-0\tLoss: 0.533629 Learning Rate: 0.01\n",
      "Train Epoch: 1 batch-1000\tLoss: 0.431178 Learning Rate: 0.01\n",
      "Accuracy of the network on the test images: 78.23 %\n",
      "Top-1 Error: 21.769999999999996 %\n",
      "Train Epoch: 2 batch-0\tLoss: 0.777186 Learning Rate: 0.001\n",
      "Train Epoch: 2 batch-1000\tLoss: 0.563058 Learning Rate: 0.001\n",
      "Accuracy of the network on the test images: 83.06 %\n",
      "Top-1 Error: 16.939999999999998 %\n",
      "Train Epoch: 3 batch-0\tLoss: 0.366869 Learning Rate: 0.0001\n",
      "Train Epoch: 3 batch-1000\tLoss: 0.472721 Learning Rate: 0.0001\n",
      "Accuracy of the network on the test images: 84.0 %\n",
      "Top-1 Error: 16.0 %\n"
     ]
    }
   ],
   "source": [
    "epochs=3\n",
    "for epoch in range(1,epochs+1):\n",
    "    train(model,optimizer,epoch)\n",
    "    test(model)\n",
    "    scheduler.step()"
   ]
  },
  {
   "cell_type": "code",
   "execution_count": 45,
   "metadata": {},
   "outputs": [
    {
     "name": "stdout",
     "output_type": "stream",
     "text": [
      "Accuracy of the network on the 10000 test images: 83.77 %\n",
      "Top-1 Error: 16.230000000000004 %\n"
     ]
    }
   ],
   "source": [
    "true_labels = [] #for confusion matrix\n",
    "predicted_labels = [] #for confusion matrix\n",
    "\n",
    "with torch.no_grad():\n",
    "    correct = 0\n",
    "    total = 0\n",
    "    for images, labels in test_df_load:\n",
    "    \n",
    "        outputs = model(images)\n",
    "        _, predicted = torch.max(outputs, 1)\n",
    "        \n",
    "        true_labels.extend(labels.cpu().numpy())\n",
    "        predicted_labels.extend(predicted.cpu().numpy())\n",
    "                                \n",
    "        total += labels.size(0)\n",
    "        correct += (predicted == labels).sum().item()\n",
    "\n",
    "    accuracy= 100 * correct / total\n",
    "    print('Accuracy of the network on the 10000 test images: {} %'.format(accuracy))\n",
    "    top1_error = 100 - accuracy\n",
    "    print('Top-1 Error: {} %'.format(top1_error))"
   ]
  },
  {
   "cell_type": "code",
   "execution_count": 48,
   "metadata": {
    "id": "MKsS6jVxcuP2"
   },
   "outputs": [
    {
     "data": {
      "image/png": "[encoded data removed]",
      "text/plain": [
       "<Figure size 1000x1000 with 2 Axes>"
      ]
     },
     "metadata": {},
     "output_type": "display_data"
    }
   ],
   "source": [
    "num_classes=10\n",
    "true_labels = np.array(true_labels)\n",
    "predicted_labels = np.array(predicted_labels)\n",
    "confusion = confusion_matrix(true_labels, predicted_labels)\n",
    "plt.figure(figsize=(num_classes, num_classes))\n",
    "sns.heatmap(confusion, annot=True, fmt='d', cmap='Blues', square=True, xticklabels=True, yticklabels=True)\n",
    "plt.xlabel('Predicted')\n",
    "plt.ylabel('True')\n",
    "plt.title('Confusion Matrix')\n",
    "plt.show()"
   ]
  },
  {
   "cell_type": "code",
   "execution_count": null,
   "metadata": {},
   "outputs": [],
   "source": [
    "report = classification_report(true_labels, predicted_labels)\n",
    "print('\\n'+ report)"
   ]
  }
 ],
 "metadata": {
  "colab": {
   "authorship_tag": "ABX9TyP3F8+gbTsTafoyr+aTmeqS",
   "provenance": []
  },
  "kernelspec": {
   "display_name": "Python 3 (ipykernel)",
   "language": "python",
   "name": "python3"
  },
  "language_info": {
   "codemirror_mode": {
    "name": "ipython",
    "version": 3
   },
   "file_extension": ".py",
   "mimetype": "text/x-python",
   "name": "python",
   "nbconvert_exporter": "python",
   "pygments_lexer": "ipython3",
   "version": "3.9.13"
  }
 },
 "nbformat": 4,
 "nbformat_minor": 1
}
