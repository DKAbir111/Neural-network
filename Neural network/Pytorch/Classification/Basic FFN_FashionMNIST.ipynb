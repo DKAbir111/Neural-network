{
 "cells": [
  {
   "cell_type": "code",
   "execution_count": 1,
   "id": "4da24308",
   "metadata": {},
   "outputs": [],
   "source": [
    "import torch\n",
    "import torch.nn as nn\n",
    "import torchvision\n",
    "import torchvision.transforms as transforms\n",
    "import torch.optim as optim\n",
    "import torch.nn.functional as F"
   ]
  },
  {
   "cell_type": "markdown",
   "id": "7f7b9f85",
   "metadata": {},
   "source": [
    "# 1. Load the FashionMNIST data"
   ]
  },
  {
   "cell_type": "code",
   "execution_count": 2,
   "id": "94c1c6ae",
   "metadata": {},
   "outputs": [],
   "source": [
    "transform= transforms.Compose(\n",
    "    [\n",
    "        transforms.ToTensor()\n",
    "    ]\n",
    ")"
   ]
  },
  {
   "cell_type": "code",
   "execution_count": 3,
   "id": "c8979a60",
   "metadata": {},
   "outputs": [],
   "source": [
    "batch_size = 64"
   ]
  },
  {
   "cell_type": "code",
   "execution_count": 4,
   "id": "3560c1f0",
   "metadata": {},
   "outputs": [
    {
     "name": "stdout",
     "output_type": "stream",
     "text": [
      "Downloading http://fashion-mnist.s3-website.eu-central-1.amazonaws.com/train-images-idx3-ubyte.gz\n",
      "Downloading http://fashion-mnist.s3-website.eu-central-1.amazonaws.com/train-images-idx3-ubyte.gz to ./data\\FashionMNIST\\raw\\train-images-idx3-ubyte.gz\n"
     ]
    },
    {
     "name": "stderr",
     "output_type": "stream",
     "text": [
      "100%|██████████████████████████████████████████████████████████████████| 26421880/26421880 [02:20<00:00, 188249.52it/s]\n"
     ]
    },
    {
     "name": "stdout",
     "output_type": "stream",
     "text": [
      "Extracting ./data\\FashionMNIST\\raw\\train-images-idx3-ubyte.gz to ./data\\FashionMNIST\\raw\n",
      "\n",
      "Downloading http://fashion-mnist.s3-website.eu-central-1.amazonaws.com/train-labels-idx1-ubyte.gz\n",
      "Downloading http://fashion-mnist.s3-website.eu-central-1.amazonaws.com/train-labels-idx1-ubyte.gz to ./data\\FashionMNIST\\raw\\train-labels-idx1-ubyte.gz\n"
     ]
    },
    {
     "name": "stderr",
     "output_type": "stream",
     "text": [
      "100%|█████████████████████████████████████████████████████████████████████████| 29515/29515 [00:00<00:00, 49024.76it/s]\n"
     ]
    },
    {
     "name": "stdout",
     "output_type": "stream",
     "text": [
      "Extracting ./data\\FashionMNIST\\raw\\train-labels-idx1-ubyte.gz to ./data\\FashionMNIST\\raw\n",
      "\n",
      "Downloading http://fashion-mnist.s3-website.eu-central-1.amazonaws.com/t10k-images-idx3-ubyte.gz\n",
      "Downloading http://fashion-mnist.s3-website.eu-central-1.amazonaws.com/t10k-images-idx3-ubyte.gz to ./data\\FashionMNIST\\raw\\t10k-images-idx3-ubyte.gz\n"
     ]
    },
    {
     "name": "stderr",
     "output_type": "stream",
     "text": [
      "100%|████████████████████████████████████████████████████████████████████| 4422102/4422102 [00:16<00:00, 271964.89it/s]\n"
     ]
    },
    {
     "name": "stdout",
     "output_type": "stream",
     "text": [
      "Extracting ./data\\FashionMNIST\\raw\\t10k-images-idx3-ubyte.gz to ./data\\FashionMNIST\\raw\n",
      "\n",
      "Downloading http://fashion-mnist.s3-website.eu-central-1.amazonaws.com/t10k-labels-idx1-ubyte.gz\n",
      "Downloading http://fashion-mnist.s3-website.eu-central-1.amazonaws.com/t10k-labels-idx1-ubyte.gz to ./data\\FashionMNIST\\raw\\t10k-labels-idx1-ubyte.gz\n"
     ]
    },
    {
     "name": "stderr",
     "output_type": "stream",
     "text": [
      "100%|██████████████████████████████████████████████████████████████████████████████████████| 5148/5148 [00:00<?, ?it/s]"
     ]
    },
    {
     "name": "stdout",
     "output_type": "stream",
     "text": [
      "Extracting ./data\\FashionMNIST\\raw\\t10k-labels-idx1-ubyte.gz to ./data\\FashionMNIST\\raw\n",
      "\n"
     ]
    },
    {
     "name": "stderr",
     "output_type": "stream",
     "text": [
      "\n"
     ]
    }
   ],
   "source": [
    "trainset = torchvision.datasets.FashionMNIST(root='./data',train=True,\n",
    "                                       download=True, transform=transform)"
   ]
  },
  {
   "cell_type": "code",
   "execution_count": 7,
   "id": "8f03cb78",
   "metadata": {},
   "outputs": [],
   "source": [
    "trainloader = torch.utils.data.DataLoader(trainset, batch_size=batch_size,\n",
    "                                         shuffle=True)"
   ]
  },
  {
   "cell_type": "code",
   "execution_count": 8,
   "id": "e653569e",
   "metadata": {},
   "outputs": [
    {
     "data": {
      "text/plain": [
       "60000"
      ]
     },
     "execution_count": 8,
     "metadata": {},
     "output_type": "execute_result"
    }
   ],
   "source": [
    "len(trainset) # 60,000 images"
   ]
  },
  {
   "cell_type": "code",
   "execution_count": 9,
   "id": "b5ccab19",
   "metadata": {},
   "outputs": [
    {
     "data": {
      "text/plain": [
       "938"
      ]
     },
     "execution_count": 9,
     "metadata": {},
     "output_type": "execute_result"
    }
   ],
   "source": [
    "len(trainloader) # 60,000/64= 938 batches"
   ]
  },
  {
   "cell_type": "code",
   "execution_count": 10,
   "id": "1941d5a8",
   "metadata": {},
   "outputs": [],
   "source": [
    "testset = torchvision.datasets.FashionMNIST(root='./data',train=False,\n",
    "                                       download=True, transform=transform)"
   ]
  },
  {
   "cell_type": "code",
   "execution_count": 11,
   "id": "48d9f0ea",
   "metadata": {},
   "outputs": [],
   "source": [
    "testloader = torch.utils.data.DataLoader(testset, batch_size=batch_size,\n",
    "                                         shuffle=False)"
   ]
  },
  {
   "cell_type": "code",
   "execution_count": 12,
   "id": "bc1bc59c",
   "metadata": {},
   "outputs": [
    {
     "data": {
      "text/plain": [
       "157"
      ]
     },
     "execution_count": 12,
     "metadata": {},
     "output_type": "execute_result"
    }
   ],
   "source": [
    "len(testloader) #157 batches"
   ]
  },
  {
   "cell_type": "code",
   "execution_count": 13,
   "id": "1d47a390",
   "metadata": {},
   "outputs": [
    {
     "data": {
      "text/plain": [
       "10000"
      ]
     },
     "execution_count": 13,
     "metadata": {},
     "output_type": "execute_result"
    }
   ],
   "source": [
    "len(testset) # 10,000 images"
   ]
  },
  {
   "cell_type": "code",
   "execution_count": 14,
   "id": "92e2af5f",
   "metadata": {},
   "outputs": [
    {
     "name": "stdout",
     "output_type": "stream",
     "text": [
      "torch.Size([64, 1, 28, 28])\n",
      "torch.Size([64])\n"
     ]
    }
   ],
   "source": [
    "for image,label in trainloader:\n",
    "    print(image.shape)\n",
    "    print(label.shape)\n",
    "    break"
   ]
  },
  {
   "cell_type": "code",
   "execution_count": 15,
   "id": "01c5715a",
   "metadata": {},
   "outputs": [
    {
     "name": "stdout",
     "output_type": "stream",
     "text": [
      "torch.Size([64, 1, 28, 28])\n",
      "torch.Size([64])\n"
     ]
    }
   ],
   "source": [
    "for image,label in testloader:\n",
    "    print(image.shape)\n",
    "    print(label.shape)\n",
    "    break"
   ]
  },
  {
   "cell_type": "markdown",
   "id": "e3a273a7",
   "metadata": {},
   "source": [
    "# 2. Define a Neural Network"
   ]
  },
  {
   "cell_type": "code",
   "execution_count": 16,
   "id": "74063df4",
   "metadata": {},
   "outputs": [
    {
     "name": "stdout",
     "output_type": "stream",
     "text": [
      "Using cpu device\n"
     ]
    }
   ],
   "source": [
    "device = (\n",
    "    \"cuda\"\n",
    "    if torch.cuda.is_available()\n",
    "    else \"mps\"\n",
    "    if torch.backends.mps.is_available()\n",
    "    else \"cpu\"\n",
    ")\n",
    "print(f\"Using {device} device\")"
   ]
  },
  {
   "cell_type": "code",
   "execution_count": 18,
   "id": "e36ea3db",
   "metadata": {},
   "outputs": [],
   "source": [
    "class Net(nn.Module):\n",
    "    \n",
    "    def __init__(self):\n",
    "        super(Net,self).__init__()\n",
    "        self.fc1= nn.Linear(28*28, 512) # 28*28 from image dimension\n",
    "        self.fc2= nn.Linear(512,128)\n",
    "        self.fc3= nn.Linear(128,10)\n",
    "        \n",
    "    def forward(self, input):\n",
    "        x= torch.flatten(input,1)\n",
    "        x=self.fc1(x)\n",
    "        x=F.relu(x)\n",
    "        x=self.fc2(x)\n",
    "        x=F.relu(x)\n",
    "        x=self.fc3(x)\n",
    "        return x\n",
    "        \n",
    "        "
   ]
  },
  {
   "cell_type": "code",
   "execution_count": 19,
   "id": "b319df9f",
   "metadata": {},
   "outputs": [
    {
     "name": "stdout",
     "output_type": "stream",
     "text": [
      "Net(\n",
      "  (fc1): Linear(in_features=784, out_features=512, bias=True)\n",
      "  (fc2): Linear(in_features=512, out_features=512, bias=True)\n",
      "  (fc3): Linear(in_features=512, out_features=10, bias=True)\n",
      ")\n"
     ]
    }
   ],
   "source": [
    "model= Net()\n",
    "print(model)"
   ]
  },
  {
   "cell_type": "markdown",
   "id": "d29b0f49",
   "metadata": {},
   "source": [
    "# 3. Define a Loss function and optimizer"
   ]
  },
  {
   "cell_type": "code",
   "execution_count": 20,
   "id": "bcba604e",
   "metadata": {},
   "outputs": [],
   "source": [
    "loss_fn = nn.CrossEntropyLoss()\n",
    "optimizer = torch.optim.SGD(model.parameters(), lr=.001)"
   ]
  },
  {
   "cell_type": "markdown",
   "id": "837a551c",
   "metadata": {},
   "source": [
    "# 4. Training loop of the network"
   ]
  },
  {
   "cell_type": "code",
   "execution_count": 27,
   "id": "37ee4732",
   "metadata": {},
   "outputs": [
    {
     "data": {
      "text/plain": [
       "60000"
      ]
     },
     "execution_count": 27,
     "metadata": {},
     "output_type": "execute_result"
    }
   ],
   "source": [
    "size = len(trainloader.dataset)\n",
    "size"
   ]
  },
  {
   "cell_type": "code",
   "execution_count": 42,
   "id": "26244526",
   "metadata": {},
   "outputs": [],
   "source": [
    "def train(dataloader, model, loss_fn, optimizer):\n",
    "    size = len(dataloader.dataset) #total number of image\n",
    "    model.train()\n",
    "    \n",
    "    for batch, (image, label) in enumerate(dataloader):\n",
    "        \n",
    "        pred = model(image)\n",
    "        loss = loss_fn(pred, label)\n",
    "\n",
    "        loss.backward()\n",
    "        optimizer.step()\n",
    "        optimizer.zero_grad()\n",
    "\n",
    "        if batch % 100 == 0:\n",
    "            loss, current = loss.item(), (batch + 1) * len(image)\n",
    "            print(f\"loss: {loss:>7f}  [{current:>5d}/{size:>5d}]\")"
   ]
  },
  {
   "cell_type": "markdown",
   "id": "d6d8501b",
   "metadata": {},
   "source": [
    "# 5. Testing loop of the network"
   ]
  },
  {
   "cell_type": "code",
   "execution_count": 43,
   "id": "bc28688c",
   "metadata": {},
   "outputs": [
    {
     "data": {
      "text/plain": [
       "10000"
      ]
     },
     "execution_count": 43,
     "metadata": {},
     "output_type": "execute_result"
    }
   ],
   "source": [
    "size = len(testloader.dataset)\n",
    "size"
   ]
  },
  {
   "cell_type": "code",
   "execution_count": 44,
   "id": "4012bd43",
   "metadata": {},
   "outputs": [],
   "source": [
    "def test(dataloader, model, loss_fn):\n",
    "    size = len(dataloader.dataset)\n",
    "    num_batches = len(dataloader)\n",
    "    model.eval()\n",
    "    total_loss, correct = 0, 0\n",
    "    \n",
    "    with torch.no_grad():\n",
    "        for image, label in dataloader:\n",
    "            pred = model(image)\n",
    "            total_loss += loss_fn(pred, label).item()\n",
    "            correct += (pred.argmax(1) == label).type(torch.float).sum().item()\n",
    "    \n",
    "    total_loss /= num_batches\n",
    "    correct /= size\n",
    "    print(f\"Test result: \\n Accuracy: {(100*correct):>0.1f}%, Avg loss: {total_loss:>8f} \\n\")"
   ]
  },
  {
   "cell_type": "markdown",
   "id": "c5b5ee31",
   "metadata": {},
   "source": [
    "# 6. Model Evaluation"
   ]
  },
  {
   "cell_type": "code",
   "execution_count": 45,
   "id": "bab41761",
   "metadata": {},
   "outputs": [
    {
     "name": "stdout",
     "output_type": "stream",
     "text": [
      "Epoch 1\n",
      "-------------------------------\n",
      "loss: 1.100297  [   64/60000]\n",
      "loss: 0.971231  [ 6464/60000]\n",
      "loss: 1.016848  [12864/60000]\n",
      "loss: 0.991942  [19264/60000]\n",
      "loss: 1.180007  [25664/60000]\n",
      "loss: 1.121896  [32064/60000]\n",
      "loss: 1.046325  [38464/60000]\n",
      "loss: 0.943186  [44864/60000]\n",
      "loss: 1.133814  [51264/60000]\n",
      "loss: 0.961872  [57664/60000]\n",
      "Test result: \n",
      " Accuracy: 65.6%, Avg loss: 0.986796 \n",
      "\n",
      "Epoch 2\n",
      "-------------------------------\n",
      "loss: 1.057878  [   64/60000]\n",
      "loss: 1.017307  [ 6464/60000]\n",
      "loss: 0.840443  [12864/60000]\n",
      "loss: 0.900234  [19264/60000]\n",
      "loss: 1.010291  [25664/60000]\n",
      "loss: 0.911125  [32064/60000]\n",
      "loss: 1.155897  [38464/60000]\n",
      "loss: 0.939221  [44864/60000]\n",
      "loss: 0.844992  [51264/60000]\n",
      "loss: 0.924779  [57664/60000]\n",
      "Test result: \n",
      " Accuracy: 66.6%, Avg loss: 0.913504 \n",
      "\n",
      "Epoch 3\n",
      "-------------------------------\n",
      "loss: 0.904804  [   64/60000]\n",
      "loss: 0.809752  [ 6464/60000]\n",
      "loss: 0.873153  [12864/60000]\n",
      "loss: 0.951148  [19264/60000]\n",
      "loss: 0.901934  [25664/60000]\n",
      "loss: 1.076858  [32064/60000]\n",
      "loss: 0.872821  [38464/60000]\n",
      "loss: 0.993236  [44864/60000]\n",
      "loss: 0.813659  [51264/60000]\n",
      "loss: 0.847458  [57664/60000]\n",
      "Test result: \n",
      " Accuracy: 67.4%, Avg loss: 0.861793 \n",
      "\n",
      "Epoch 4\n",
      "-------------------------------\n",
      "loss: 0.795018  [   64/60000]\n",
      "loss: 0.877426  [ 6464/60000]\n",
      "loss: 0.767902  [12864/60000]\n",
      "loss: 0.742088  [19264/60000]\n",
      "loss: 0.870814  [25664/60000]\n",
      "loss: 0.880697  [32064/60000]\n",
      "loss: 1.008781  [38464/60000]\n",
      "loss: 1.046875  [44864/60000]\n",
      "loss: 0.810364  [51264/60000]\n",
      "loss: 0.627797  [57664/60000]\n",
      "Test result: \n",
      " Accuracy: 69.2%, Avg loss: 0.821676 \n",
      "\n",
      "Epoch 5\n",
      "-------------------------------\n",
      "loss: 0.803353  [   64/60000]\n",
      "loss: 0.836082  [ 6464/60000]\n",
      "loss: 0.903949  [12864/60000]\n",
      "loss: 0.707457  [19264/60000]\n",
      "loss: 0.701616  [25664/60000]\n",
      "loss: 0.677493  [32064/60000]\n",
      "loss: 0.784577  [38464/60000]\n",
      "loss: 0.820267  [44864/60000]\n",
      "loss: 0.728267  [51264/60000]\n",
      "loss: 0.827751  [57664/60000]\n",
      "Test result: \n",
      " Accuracy: 71.1%, Avg loss: 0.788787 \n",
      "\n"
     ]
    }
   ],
   "source": [
    "for epoch in range(1,6):\n",
    "    print(f\"Epoch {epoch}\\n-------------------------------\")\n",
    "    train(trainloader, model, loss_fn, optimizer)\n",
    "    test(testloader, model, loss_fn)"
   ]
  },
  {
   "cell_type": "code",
   "execution_count": null,
   "id": "d35fee5c",
   "metadata": {},
   "outputs": [],
   "source": [
    "torch.save(model.state_dict(), \"model.pth\")\n",
    "print(\"Saved PyTorch Model State to model.pth\")"
   ]
  }
 ],
 "metadata": {
  "kernelspec": {
   "display_name": "Python 3 (ipykernel)",
   "language": "python",
   "name": "python3"
  },
  "language_info": {
   "codemirror_mode": {
    "name": "ipython",
    "version": 3
   },
   "file_extension": ".py",
   "mimetype": "text/x-python",
   "name": "python",
   "nbconvert_exporter": "python",
   "pygments_lexer": "ipython3",
   "version": "3.9.13"
  }
 },
 "nbformat": 4,
 "nbformat_minor": 5
}
