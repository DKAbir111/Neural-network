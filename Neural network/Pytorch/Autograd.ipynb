{
 "cells": [
  {
   "cell_type": "code",
   "execution_count": 1,
   "id": "9b7b980f",
   "metadata": {},
   "outputs": [],
   "source": [
    "# The autograd package provides automatic gradient calculation."
   ]
  },
  {
   "cell_type": "code",
   "execution_count": 33,
   "id": "e3a04852",
   "metadata": {},
   "outputs": [],
   "source": [
    "import torch"
   ]
  },
  {
   "cell_type": "code",
   "execution_count": 35,
   "id": "ad7b046c",
   "metadata": {},
   "outputs": [],
   "source": [
    "input = torch.rand(1,3,64,64)\n",
    "labels=torch.rand(1,1000)"
   ]
  },
  {
   "cell_type": "code",
   "execution_count": 36,
   "id": "b6cbd9e8",
   "metadata": {},
   "outputs": [],
   "source": [
    "from torchvision.models import resnet18, ResNet18_Weights\n",
    "model= resnet18(weights=ResNet18_Weights.DEFAULT)\n",
    "pred= model(input)"
   ]
  },
  {
   "cell_type": "code",
   "execution_count": 37,
   "id": "602bde0e",
   "metadata": {},
   "outputs": [],
   "source": [
    "loss = (pred - labels).sum()\n",
    "loss.backward()\n",
    "optim= torch.optim.SGD(model.parameters(),lr=.001)\n",
    "optim.step()"
   ]
  },
  {
   "cell_type": "code",
   "execution_count": 38,
   "id": "9beacb26",
   "metadata": {},
   "outputs": [],
   "source": [
    "x = torch.rand(5)\n",
    "y = torch.rand(5)\n",
    "z = torch.rand((5), requires_grad=True)"
   ]
  },
  {
   "cell_type": "code",
   "execution_count": 39,
   "id": "46dd020e",
   "metadata": {},
   "outputs": [
    {
     "data": {
      "text/plain": [
       "False"
      ]
     },
     "execution_count": 39,
     "metadata": {},
     "output_type": "execute_result"
    }
   ],
   "source": [
    "a=x+y\n",
    "a.requires_grad"
   ]
  },
  {
   "cell_type": "code",
   "execution_count": 40,
   "id": "c72f85a3",
   "metadata": {},
   "outputs": [
    {
     "data": {
      "text/plain": [
       "True"
      ]
     },
     "execution_count": 40,
     "metadata": {},
     "output_type": "execute_result"
    }
   ],
   "source": [
    "b=x+z\n",
    "b.requires_grad"
   ]
  },
  {
   "cell_type": "code",
   "execution_count": 41,
   "id": "3a148ad7",
   "metadata": {},
   "outputs": [
    {
     "data": {
      "text/plain": [
       "True"
      ]
     },
     "execution_count": 41,
     "metadata": {},
     "output_type": "execute_result"
    }
   ],
   "source": [
    "c=x*z\n",
    "c.requires_grad"
   ]
  },
  {
   "cell_type": "code",
   "execution_count": 42,
   "id": "d679de82",
   "metadata": {},
   "outputs": [
    {
     "data": {
      "text/plain": [
       "tensor([0.4485, 1.0185, 0.9539, 1.2003, 0.6007])"
      ]
     },
     "execution_count": 42,
     "metadata": {},
     "output_type": "execute_result"
    }
   ],
   "source": [
    "a"
   ]
  },
  {
   "cell_type": "code",
   "execution_count": 43,
   "id": "aef60761",
   "metadata": {},
   "outputs": [
    {
     "data": {
      "text/plain": [
       "tensor([0.7289, 0.8793, 1.3517, 1.1732, 0.7945], grad_fn=<AddBackward0>)"
      ]
     },
     "execution_count": 43,
     "metadata": {},
     "output_type": "execute_result"
    }
   ],
   "source": [
    "b"
   ]
  },
  {
   "cell_type": "code",
   "execution_count": 44,
   "id": "443cfdbf",
   "metadata": {},
   "outputs": [
    {
     "data": {
      "text/plain": [
       "tensor([0.0104, 0.1895, 0.4559, 0.3406, 0.1485], grad_fn=<MulBackward0>)"
      ]
     },
     "execution_count": 44,
     "metadata": {},
     "output_type": "execute_result"
    }
   ],
   "source": [
    "c"
   ]
  },
  {
   "cell_type": "code",
   "execution_count": 45,
   "id": "ac10fb69",
   "metadata": {},
   "outputs": [
    {
     "data": {
      "text/plain": [
       "tensor(0.2290, grad_fn=<MeanBackward0>)"
      ]
     },
     "execution_count": 45,
     "metadata": {},
     "output_type": "execute_result"
    }
   ],
   "source": [
    "c=c.mean()\n",
    "c"
   ]
  },
  {
   "cell_type": "code",
   "execution_count": 46,
   "id": "eb07f9d8",
   "metadata": {},
   "outputs": [],
   "source": [
    "z.grad"
   ]
  },
  {
   "cell_type": "code",
   "execution_count": 47,
   "id": "b8f7cd40",
   "metadata": {},
   "outputs": [
    {
     "data": {
      "text/plain": [
       "tensor([0.0029, 0.1002, 0.1292, 0.1054, 0.0602])"
      ]
     },
     "execution_count": 47,
     "metadata": {},
     "output_type": "execute_result"
    }
   ],
   "source": [
    "c.backward()\n",
    "z.grad #gradient dc/dz"
   ]
  },
  {
   "cell_type": "code",
   "execution_count": 48,
   "id": "b8cbce67",
   "metadata": {},
   "outputs": [
    {
     "name": "stdout",
     "output_type": "stream",
     "text": [
      "tensor([1.4287, 0.7565, 1.4117, 1.2922, 0.9873])\n"
     ]
    }
   ],
   "source": [
    "with torch.no_grad():\n",
    "    print(z*2)"
   ]
  },
  {
   "cell_type": "code",
   "execution_count": 49,
   "id": "d5df2973",
   "metadata": {},
   "outputs": [],
   "source": [
    "#D from scratch"
   ]
  },
  {
   "cell_type": "code",
   "execution_count": 50,
   "id": "93931181",
   "metadata": {},
   "outputs": [],
   "source": [
    "x = torch.tensor(1.0)\n",
    "y = torch.tensor(2.0)\n",
    "w = torch.tensor(1.0, requires_grad=True) #parameter we want to optimi"
   ]
  },
  {
   "cell_type": "code",
   "execution_count": 51,
   "id": "7d929343",
   "metadata": {},
   "outputs": [
    {
     "data": {
      "text/plain": [
       "tensor(1., requires_grad=True)"
      ]
     },
     "execution_count": 51,
     "metadata": {},
     "output_type": "execute_result"
    }
   ],
   "source": [
    "w"
   ]
  },
  {
   "cell_type": "code",
   "execution_count": 52,
   "id": "6c309a3c",
   "metadata": {},
   "outputs": [
    {
     "data": {
      "text/plain": [
       "tensor(-2.)"
      ]
     },
     "execution_count": 52,
     "metadata": {},
     "output_type": "execute_result"
    }
   ],
   "source": [
    "#Forward pass to compute loss\n",
    "pred = w*x    #forward pass\n",
    "loss = (pred - y)**2 #loss\n",
    "#Backward pass to compute gradients using chain rule\n",
    "loss.backward() #backward pass\n",
    "w.grad # dloss/dw (partial derivatives)"
   ]
  },
  {
   "cell_type": "code",
   "execution_count": 53,
   "id": "667c745b",
   "metadata": {},
   "outputs": [
    {
     "data": {
      "text/plain": [
       "tensor(0.)"
      ]
     },
     "execution_count": 53,
     "metadata": {},
     "output_type": "execute_result"
    }
   ],
   "source": [
    "w.grad.zero_() #set gradient to zero"
   ]
  },
  {
   "cell_type": "code",
   "execution_count": 54,
   "id": "5f036f57",
   "metadata": {},
   "outputs": [
    {
     "data": {
      "text/plain": [
       "(tensor(3.), tensor(4., requires_grad=True), tensor(1., requires_grad=True))"
      ]
     },
     "execution_count": 54,
     "metadata": {},
     "output_type": "execute_result"
    }
   ],
   "source": [
    "x= torch.tensor(3.)\n",
    "w= torch.tensor(4., requires_grad=True)\n",
    "b= torch.tensor(1., requires_grad=True)\n",
    "x, w, b"
   ]
  },
  {
   "cell_type": "code",
   "execution_count": 55,
   "id": "a6bf0bf8",
   "metadata": {},
   "outputs": [],
   "source": [
    "y = w * x + b"
   ]
  },
  {
   "cell_type": "code",
   "execution_count": 56,
   "id": "b094e10f",
   "metadata": {},
   "outputs": [
    {
     "data": {
      "text/plain": [
       "tensor(13., grad_fn=<AddBackward0>)"
      ]
     },
     "execution_count": 56,
     "metadata": {},
     "output_type": "execute_result"
    }
   ],
   "source": [
    "y"
   ]
  },
  {
   "cell_type": "code",
   "execution_count": 57,
   "id": "2325c3d5",
   "metadata": {},
   "outputs": [],
   "source": [
    "y.backward()"
   ]
  },
  {
   "cell_type": "code",
   "execution_count": 58,
   "id": "741d71ca",
   "metadata": {},
   "outputs": [
    {
     "name": "stdout",
     "output_type": "stream",
     "text": [
      "None\n"
     ]
    }
   ],
   "source": [
    "print(x.grad)"
   ]
  },
  {
   "cell_type": "code",
   "execution_count": 59,
   "id": "f6a7b295",
   "metadata": {},
   "outputs": [
    {
     "name": "stdout",
     "output_type": "stream",
     "text": [
      "tensor(3.)\n"
     ]
    }
   ],
   "source": [
    "print(w.grad)"
   ]
  },
  {
   "cell_type": "code",
   "execution_count": 60,
   "id": "34f162b6",
   "metadata": {},
   "outputs": [
    {
     "name": "stdout",
     "output_type": "stream",
     "text": [
      "tensor(1.)\n"
     ]
    }
   ],
   "source": [
    "print(b.grad)"
   ]
  },
  {
   "cell_type": "code",
   "execution_count": null,
   "id": "53bcec44",
   "metadata": {},
   "outputs": [],
   "source": []
  }
 ],
 "metadata": {
  "kernelspec": {
   "display_name": "Python 3 (ipykernel)",
   "language": "python",
   "name": "python3"
  },
  "language_info": {
   "codemirror_mode": {
    "name": "ipython",
    "version": 3
   },
   "file_extension": ".py",
   "mimetype": "text/x-python",
   "name": "python",
   "nbconvert_exporter": "python",
   "pygments_lexer": "ipython3",
   "version": "3.9.13"
  }
 },
 "nbformat": 4,
 "nbformat_minor": 5
}
