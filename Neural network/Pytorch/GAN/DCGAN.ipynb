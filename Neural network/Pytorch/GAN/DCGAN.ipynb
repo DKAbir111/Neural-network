{
  "cells": [
    {
      "cell_type": "code",
      "execution_count": 1,
      "metadata": {
        "id": "pJP7ahYhsc6x"
      },
      "outputs": [],
      "source": [
        "import torch\n",
        "import torch.nn as nn\n",
        "import torch.optim as optim\n",
        "import torchvision\n",
        "import torchvision.datasets as datasets\n",
        "import torchvision.transforms as transforms\n",
        "from torch.utils.data import DataLoader\n",
        "from torch.utils.tensorboard import SummaryWriter\n"
      ]
    },
    {
      "cell_type": "code",
      "execution_count": 1,
      "metadata": {
        "id": "qnXfO2cSNYCQ"
      },
      "outputs": [],
      "source": [
        "!rm -rf ./logs/"
      ]
    },
    {
      "cell_type": "code",
      "execution_count": 2,
      "metadata": {
        "id": "0TmUoGprsl2T"
      },
      "outputs": [],
      "source": [
        "class Discriminator(nn.Module):\n",
        "  def __init__(self, in_channel, features):\n",
        "    super().__init__()\n",
        "    self.disc= nn.Sequential(                                                                   #[N, 3, 64, 64]\n",
        "        nn.Conv2d(in_channel, features, kernel_size=4, stride=2, padding=1),\n",
        "        nn.LeakyReLU(0.2),                                                                      #[N, 8, 32, 32]\n",
        "        nn.Conv2d(features, features*2, kernel_size=4, stride=2, padding=1, bias=False,),\n",
        "        nn.LeakyReLU(0.2),                                                                      #[N, 16,  16,  16]\n",
        "        nn.Conv2d(features*2, features*4, kernel_size=4, stride=2, padding=1, bias=False,),\n",
        "        nn.LeakyReLU(0.2),                                                                      #[N, 32, 8, 8]\n",
        "        nn.Conv2d(features*4, features*8, kernel_size=4, stride=2, padding=1,bias=False,),\n",
        "        nn.LeakyReLU(0.2),                                                                      #[N, 64, 4, 4]\n",
        "        nn.Conv2d(features*8, 1, kernel_size=4, stride=2, padding=0),\n",
        "        nn.Sigmoid(),                                                                           #[N, 1, 1, 1]\n",
        "\n",
        "    )\n",
        "  def forward(self, x):\n",
        "    return self.disc(x)\n"
      ]
    },
    {
      "cell_type": "code",
      "execution_count": 3,
      "metadata": {
        "id": "oKbtLITK9o_p"
      },
      "outputs": [],
      "source": [
        "class Generator(nn.Module):\n",
        "  def __init__(self, noise_dim, img_channel, features):\n",
        "    super().__init__()\n",
        "    self.gen= nn.Sequential(                                                                          #[N, noise_dim, 1, 1]\n",
        "        nn.ConvTranspose2d(noise_dim, features*16, kernel_size=4, stride=1, padding=0, bias=False),\n",
        "        nn.ReLU(),                                                                                    #[N, 128, 4, 4]\n",
        "        nn.ConvTranspose2d(features*16, features*8, kernel_size=4, stride=2, padding=1, bias=False),\n",
        "        nn.ReLU(),                                                                                    #[N, 64, 8, 8]\n",
        "        nn.ConvTranspose2d(features*8, features*4, kernel_size=4, stride=2, padding=1, bias=False),\n",
        "        nn.ReLU(),                                                                                    #[N, 32, 16, 16]\n",
        "        nn.ConvTranspose2d(features*4, features*2, kernel_size=4, stride=2, padding=1, bias=False),\n",
        "        nn.ReLU(),                                                                                    #[N, 16, 32, 32]\n",
        "        nn.ConvTranspose2d(features*2, img_channel, kernel_size=4, stride=2, padding=1, bias=False),\n",
        "        nn.Tanh(),                                                                                    #[N, 3, 64, 64]\n",
        "\n",
        "    )\n",
        "  def forward(self, x):\n",
        "        return self.gen(x)\n",
        "\n"
      ]
    },
    {
      "cell_type": "code",
      "execution_count": 4,
      "metadata": {
        "id": "RQI24N_VH4X2"
      },
      "outputs": [],
      "source": [
        "def initialize_weights(model):\n",
        "    for m in model.modules():\n",
        "        if isinstance(m, (nn.Conv2d, nn.ConvTranspose2d, nn.BatchNorm2d)):\n",
        "            nn.init.normal_(m.weight.data, 0.0, 0.02)\n"
      ]
    },
    {
      "cell_type": "code",
      "execution_count": 5,
      "metadata": {
        "id": "DasLqnp6ITXG"
      },
      "outputs": [],
      "source": [
        "device = torch.device(\"cuda\" if torch.cuda.is_available() else \"cpu\")"
      ]
    },
    {
      "cell_type": "code",
      "execution_count": 6,
      "metadata": {
        "id": "hWpzc3wuINE8"
      },
      "outputs": [],
      "source": [
        "LEARNING_RATE = 2e-4\n",
        "BATCH_SIZE = 128\n",
        "IMAGE_SIZE = 64  #1x64x64\n",
        "CHANNELS_IMG = 1\n",
        "NOISE_DIM = 100\n",
        "NUM_EPOCHS = 1\n",
        "FEATURES_DISC = 64\n",
        "FEATURES_GEN = 64"
      ]
    },
    {
      "cell_type": "code",
      "execution_count": 7,
      "metadata": {
        "id": "Ly8zOEsqId5q"
      },
      "outputs": [],
      "source": [
        "transforms = transforms.Compose(\n",
        "    [\n",
        "        transforms.Resize(IMAGE_SIZE), #1x64x64\n",
        "        transforms.ToTensor(),\n",
        "        transforms.Normalize(\n",
        "            [0.5 for i in range(CHANNELS_IMG)], [0.5 for i in range(CHANNELS_IMG)]\n",
        "        ),\n",
        "    ]\n",
        ")"
      ]
    },
    {
      "cell_type": "code",
      "execution_count": 8,
      "metadata": {
        "colab": {
          "base_uri": "https://localhost:8080/"
        },
        "id": "i4IiLgODJL4J",
        "outputId": "736b7705-c184-4a1f-80e3-dbc7a4a71bbd"
      },
      "outputs": [
        {
          "output_type": "stream",
          "name": "stdout",
          "text": [
            "Downloading http://yann.lecun.com/exdb/mnist/train-images-idx3-ubyte.gz\n",
            "Downloading http://yann.lecun.com/exdb/mnist/train-images-idx3-ubyte.gz to dataset/MNIST/raw/train-images-idx3-ubyte.gz\n"
          ]
        },
        {
          "output_type": "stream",
          "name": "stderr",
          "text": [
            "100%|██████████| 9912422/9912422 [00:00<00:00, 104124098.39it/s]\n"
          ]
        },
        {
          "output_type": "stream",
          "name": "stdout",
          "text": [
            "Extracting dataset/MNIST/raw/train-images-idx3-ubyte.gz to dataset/MNIST/raw\n",
            "\n",
            "Downloading http://yann.lecun.com/exdb/mnist/train-labels-idx1-ubyte.gz\n",
            "Downloading http://yann.lecun.com/exdb/mnist/train-labels-idx1-ubyte.gz to dataset/MNIST/raw/train-labels-idx1-ubyte.gz\n"
          ]
        },
        {
          "output_type": "stream",
          "name": "stderr",
          "text": [
            "100%|██████████| 28881/28881 [00:00<00:00, 29588591.55it/s]\n"
          ]
        },
        {
          "output_type": "stream",
          "name": "stdout",
          "text": [
            "Extracting dataset/MNIST/raw/train-labels-idx1-ubyte.gz to dataset/MNIST/raw\n",
            "\n",
            "Downloading http://yann.lecun.com/exdb/mnist/t10k-images-idx3-ubyte.gz\n",
            "Downloading http://yann.lecun.com/exdb/mnist/t10k-images-idx3-ubyte.gz to dataset/MNIST/raw/t10k-images-idx3-ubyte.gz\n"
          ]
        },
        {
          "output_type": "stream",
          "name": "stderr",
          "text": [
            "100%|██████████| 1648877/1648877 [00:00<00:00, 26539358.37it/s]\n"
          ]
        },
        {
          "output_type": "stream",
          "name": "stdout",
          "text": [
            "Extracting dataset/MNIST/raw/t10k-images-idx3-ubyte.gz to dataset/MNIST/raw\n",
            "\n",
            "Downloading http://yann.lecun.com/exdb/mnist/t10k-labels-idx1-ubyte.gz\n",
            "Downloading http://yann.lecun.com/exdb/mnist/t10k-labels-idx1-ubyte.gz to dataset/MNIST/raw/t10k-labels-idx1-ubyte.gz\n"
          ]
        },
        {
          "output_type": "stream",
          "name": "stderr",
          "text": [
            "100%|██████████| 4542/4542 [00:00<00:00, 1173857.22it/s]"
          ]
        },
        {
          "output_type": "stream",
          "name": "stdout",
          "text": [
            "Extracting dataset/MNIST/raw/t10k-labels-idx1-ubyte.gz to dataset/MNIST/raw\n",
            "\n"
          ]
        },
        {
          "output_type": "stream",
          "name": "stderr",
          "text": [
            "\n"
          ]
        }
      ],
      "source": [
        "dataset = datasets.MNIST(root=\"dataset/\", train=True, transform=transforms, download=True)\n",
        "dataloader = DataLoader(dataset, batch_size=BATCH_SIZE, shuffle=True)\n"
      ]
    },
    {
      "cell_type": "code",
      "execution_count": 9,
      "metadata": {
        "id": "4n-PhCxNJXhO"
      },
      "outputs": [],
      "source": [
        "gen = Generator(NOISE_DIM, CHANNELS_IMG, FEATURES_GEN).to(device)\n",
        "disc = Discriminator(CHANNELS_IMG, FEATURES_DISC).to(device)"
      ]
    },
    {
      "cell_type": "code",
      "execution_count": 10,
      "metadata": {
        "id": "7rVG0b0PJj0K"
      },
      "outputs": [],
      "source": [
        "initialize_weights(gen)\n",
        "initialize_weights(disc)"
      ]
    },
    {
      "cell_type": "code",
      "execution_count": 11,
      "metadata": {
        "id": "ajgAfIL1JmJ4"
      },
      "outputs": [],
      "source": [
        "opt_gen = optim.Adam(gen.parameters(), lr=LEARNING_RATE)\n",
        "opt_disc = optim.Adam(disc.parameters(), lr=LEARNING_RATE)\n",
        "criterion = nn.BCELoss()"
      ]
    },
    {
      "cell_type": "code",
      "execution_count": 12,
      "metadata": {
        "id": "6bqELlJlJlR2"
      },
      "outputs": [],
      "source": [
        "fixed_noise = torch.randn(32, NOISE_DIM, 1, 1).to(device)"
      ]
    },
    {
      "cell_type": "code",
      "execution_count": 13,
      "metadata": {
        "id": "qs-Hu6SeJ47C"
      },
      "outputs": [],
      "source": [
        "writer_real = SummaryWriter(f\"logs/real\")\n",
        "writer_fake = SummaryWriter(f\"logs/fake\")"
      ]
    },
    {
      "cell_type": "code",
      "execution_count": 14,
      "metadata": {
        "colab": {
          "base_uri": "https://localhost:8080/"
        },
        "id": "CLarW0CyKAg0",
        "outputId": "4cc40a86-9fca-4816-9769-9c800ad84ad8"
      },
      "outputs": [
        {
          "output_type": "execute_result",
          "data": {
            "text/plain": [
              "Discriminator(\n",
              "  (disc): Sequential(\n",
              "    (0): Conv2d(1, 64, kernel_size=(4, 4), stride=(2, 2), padding=(1, 1))\n",
              "    (1): LeakyReLU(negative_slope=0.2)\n",
              "    (2): Conv2d(64, 128, kernel_size=(4, 4), stride=(2, 2), padding=(1, 1), bias=False)\n",
              "    (3): LeakyReLU(negative_slope=0.2)\n",
              "    (4): Conv2d(128, 256, kernel_size=(4, 4), stride=(2, 2), padding=(1, 1), bias=False)\n",
              "    (5): LeakyReLU(negative_slope=0.2)\n",
              "    (6): Conv2d(256, 512, kernel_size=(4, 4), stride=(2, 2), padding=(1, 1), bias=False)\n",
              "    (7): LeakyReLU(negative_slope=0.2)\n",
              "    (8): Conv2d(512, 1, kernel_size=(4, 4), stride=(2, 2))\n",
              "    (9): Sigmoid()\n",
              "  )\n",
              ")"
            ]
          },
          "metadata": {},
          "execution_count": 14
        }
      ],
      "source": [
        "step = 0\n",
        "gen.train()\n",
        "disc.train()"
      ]
    },
    {
      "cell_type": "code",
      "execution_count": null,
      "metadata": {
        "colab": {
          "background_save": true,
          "base_uri": "https://localhost:8080/"
        },
        "id": "wensm8Y8KIba",
        "outputId": "f924b414-1b7c-4298-959f-c1874d848c90"
      },
      "outputs": [
        {
          "output_type": "stream",
          "name": "stdout",
          "text": [
            "Epoch [0/1] Batch 0/469                   Loss D: 0.6905, loss G: 0.6857\n"
          ]
        }
      ],
      "source": [
        "\n",
        "for epoch in range(NUM_EPOCHS):\n",
        "    for batch_idx, (real, _) in enumerate(dataloader):\n",
        "\n",
        "        real = real.to(device)\n",
        "        disc_real = disc(real).reshape(-1)\n",
        "        loss_disc_real = criterion(disc_real, torch.ones_like(disc_real))\n",
        "\n",
        "        noise = torch.randn(BATCH_SIZE, NOISE_DIM, 1, 1).to(device)\n",
        "        fake = gen(noise)\n",
        "        disc_fake = disc(fake.detach()).reshape(-1)\n",
        "        loss_disc_fake = criterion(disc_fake, torch.zeros_like(disc_fake))\n",
        "\n",
        "        loss_disc = (loss_disc_real + loss_disc_fake) / 2\n",
        "        disc.zero_grad()\n",
        "        loss_disc.backward()\n",
        "        opt_disc.step()\n",
        "\n",
        "\n",
        "        output = disc(fake).reshape(-1)\n",
        "        loss_gen = criterion(output, torch.ones_like(output))\n",
        "        gen.zero_grad()\n",
        "        loss_gen.backward()\n",
        "        opt_gen.step()\n",
        "\n",
        "        if batch_idx % 100 == 0:\n",
        "            print(\n",
        "                f\"Epoch [{epoch}/{NUM_EPOCHS}] Batch {batch_idx}/{len(dataloader)} \\\n",
        "                  Loss D: {loss_disc:.4f}, loss G: {loss_gen:.4f}\"\n",
        "            )\n",
        "\n",
        "            with torch.no_grad():\n",
        "                fake = gen(fixed_noise)\n",
        "                img_grid_real = torchvision.utils.make_grid(real[:32], normalize=True)\n",
        "                img_grid_fake = torchvision.utils.make_grid(fake[:32], normalize=True)\n",
        "\n",
        "                writer_real.add_image(\"Real\", img_grid_real, global_step=step)\n",
        "                writer_fake.add_image(\"Fake\", img_grid_fake, global_step=step)\n",
        "\n",
        "            step += 1"
      ]
    },
    {
      "cell_type": "code",
      "execution_count": null,
      "metadata": {
        "id": "2pUiR-FNNusu"
      },
      "outputs": [],
      "source": [
        "%load_ext tensorboard"
      ]
    },
    {
      "cell_type": "code",
      "execution_count": null,
      "metadata": {
        "id": "Y8F3_6OcNx0S"
      },
      "outputs": [],
      "source": [
        "%tensorboard --logdir logs/fake"
      ]
    },
    {
      "cell_type": "code",
      "execution_count": null,
      "metadata": {
        "colab": {
          "base_uri": "https://localhost:8080/"
        },
        "id": "leXnip7vHfH9",
        "outputId": "a919f473-cca4-4a37-bb0c-a61be4b930ce"
      },
      "outputs": [
        {
          "name": "stdout",
          "output_type": "stream",
          "text": [
            "torch.Size([32, 1, 1, 1])\n"
          ]
        }
      ],
      "source": [
        "#Discriminator\n",
        "input = torch.randn(32,3,64,64) #image shape 3*64*64 and batch size=32\n",
        "model = Discriminator(3, 8)\n",
        "print(model(input).shape)"
      ]
    },
    {
      "cell_type": "code",
      "execution_count": null,
      "metadata": {
        "colab": {
          "base_uri": "https://localhost:8080/"
        },
        "id": "iHOiv3opusFP",
        "outputId": "4d119b41-b167-4f9e-f700-d895ea97d601"
      },
      "outputs": [
        {
          "name": "stdout",
          "output_type": "stream",
          "text": [
            "torch.Size([32, 3, 64, 64])\n",
            "torch.Size([32, 8, 32, 32])\n",
            "torch.Size([32, 16, 16, 16])\n",
            "torch.Size([32, 32, 8, 8])\n",
            "torch.Size([32, 64, 4, 4])\n",
            "torch.Size([32, 1, 1, 1])\n"
          ]
        }
      ],
      "source": [
        "\n",
        "x = torch.randn(32,3,64,64)\n",
        "print(x.shape)\n",
        "features = 8\n",
        "m= nn.Conv2d(3, features, kernel_size=4, stride=2, padding=1)\n",
        "n = nn.LeakyReLU(0.2)\n",
        "x= m(x)\n",
        "x = n(x)\n",
        "print(x.shape)\n",
        "\n",
        "m= nn.Conv2d(features, features*2, kernel_size=4, stride=2, padding=1, bias=False,)\n",
        "n = nn.LeakyReLU(0.2)\n",
        "x= m(x)\n",
        "x = n(x)\n",
        "print(x.shape)\n",
        "\n",
        "m= nn.Conv2d(features*2, features*4, kernel_size=4, stride=2, padding=1, bias=False,)\n",
        "n = nn.LeakyReLU(0.2)\n",
        "x= m(x)\n",
        "x = n(x)\n",
        "print(x.shape)\n",
        "\n",
        "m= nn.Conv2d(features*4, features*8, kernel_size=4, stride=2, padding=1, bias=False,)\n",
        "n = nn.LeakyReLU(0.2)\n",
        "x= m(x)\n",
        "x = n(x)\n",
        "print(x.shape)\n",
        "\n",
        "m= nn.Conv2d(features*8, 1, kernel_size=4, stride=2, padding=0)\n",
        "n = nn.Sigmoid()\n",
        "x= m(x)\n",
        "x = n(x)\n",
        "print(x.shape)\n",
        "\n"
      ]
    },
    {
      "cell_type": "code",
      "execution_count": null,
      "metadata": {
        "colab": {
          "base_uri": "https://localhost:8080/"
        },
        "id": "R1ROOtA0y0jb",
        "outputId": "4c010ffc-2ca4-44a6-fa60-1ff2ac63b913"
      },
      "outputs": [
        {
          "name": "stdout",
          "output_type": "stream",
          "text": [
            "torch.Size([32, 3, 64, 64])\n"
          ]
        }
      ],
      "source": [
        "input = torch.randn(32,100,1,1)\n",
        "model = Generator(100,3,8)\n",
        "print(model(input).shape)"
      ]
    },
    {
      "cell_type": "code",
      "execution_count": null,
      "metadata": {
        "colab": {
          "base_uri": "https://localhost:8080/"
        },
        "id": "3UPB11MXB3gX",
        "outputId": "b7ab57d1-6a02-48d1-abb5-692b341dad87"
      },
      "outputs": [
        {
          "name": "stdout",
          "output_type": "stream",
          "text": [
            "torch.Size([32, 128, 4, 4])\n",
            "torch.Size([32, 64, 8, 8])\n",
            "torch.Size([32, 32, 16, 16])\n",
            "torch.Size([32, 16, 32, 32])\n",
            "torch.Size([32, 3, 64, 64])\n"
          ]
        }
      ],
      "source": [
        "noise_dim = 100\n",
        "batch_size = 32\n",
        "features = 8\n",
        "img_channel = 3\n",
        "x = torch.randn(batch_size ,noise_dim,1,1)  #batch_size x noise_dim x 1 x 1\n",
        "m= nn.ConvTranspose2d(noise_dim, features*16, kernel_size=4, stride=1, padding=0, bias=False)\n",
        "n = nn.ReLU()\n",
        "x = m(x)\n",
        "x= n(x)\n",
        "print(x.shape) #[32, 128, 4, 4]\n",
        "\n",
        "m= nn.ConvTranspose2d(features*16, features*8, kernel_size=4, stride=2, padding=1, bias=False)\n",
        "n = nn.ReLU()\n",
        "x = m(x)\n",
        "x= n(x)\n",
        "print(x.shape) #[32, 64, 8, 8]\n",
        "\n",
        "m= nn.ConvTranspose2d(features*8, features*4, kernel_size=4, stride=2, padding=1, bias=False)\n",
        "n = nn.ReLU()\n",
        "x = m(x)\n",
        "x= n(x)\n",
        "print(x.shape) #[32, 32, 16, 16]\n",
        "\n",
        "m= nn.ConvTranspose2d(features*4, features*2, kernel_size=4, stride=2, padding=1, bias=False)\n",
        "n = nn.ReLU()\n",
        "x = m(x)\n",
        "x= n(x)\n",
        "print(x.shape) #[32, 16, 32, 32]\n",
        "\n",
        "m= nn.ConvTranspose2d(features*2, img_channel, kernel_size=4, stride=2, padding=1, bias=False)\n",
        "n = nn.Tanh()\n",
        "x = m(x)\n",
        "x= n(x)\n",
        "print(x.shape) #[32, 3, 64, 64]"
      ]
    },
    {
      "cell_type": "code",
      "execution_count": null,
      "metadata": {
        "id": "SOE-nHuqDnsS"
      },
      "outputs": [],
      "source": []
    }
  ],
  "metadata": {
    "colab": {
      "provenance": []
    },
    "kernelspec": {
      "display_name": "Python 3",
      "name": "python3"
    },
    "language_info": {
      "name": "python"
    }
  },
  "nbformat": 4,
  "nbformat_minor": 0
}