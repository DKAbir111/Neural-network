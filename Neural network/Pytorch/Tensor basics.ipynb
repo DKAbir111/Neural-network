{
 "cells": [
  {
   "cell_type": "code",
   "execution_count": 7,
   "metadata": {
    "id": "7HONmufm397A"
   },
   "outputs": [],
   "source": [
    "import torch\n",
    "import numpy as np"
   ]
  },
  {
   "cell_type": "code",
   "execution_count": 8,
   "metadata": {},
   "outputs": [
    {
     "data": {
      "text/plain": [
       "tensor([[1, 2],\n",
       "        [3, 4]])"
      ]
     },
     "execution_count": 8,
     "metadata": {},
     "output_type": "execute_result"
    }
   ],
   "source": [
    "data=[[1,2],[3,4]]\n",
    "x_data= torch.tensor(data)\n",
    "x_data"
   ]
  },
  {
   "cell_type": "code",
   "execution_count": 9,
   "metadata": {},
   "outputs": [
    {
     "data": {
      "text/plain": [
       "array([[1, 2],\n",
       "       [3, 4]])"
      ]
     },
     "execution_count": 9,
     "metadata": {},
     "output_type": "execute_result"
    }
   ],
   "source": [
    "arr=np.array(data)\n",
    "arr"
   ]
  },
  {
   "cell_type": "code",
   "execution_count": 10,
   "metadata": {},
   "outputs": [
    {
     "data": {
      "text/plain": [
       "tensor([[1, 2],\n",
       "        [3, 4]], dtype=torch.int32)"
      ]
     },
     "execution_count": 10,
     "metadata": {},
     "output_type": "execute_result"
    }
   ],
   "source": [
    "x=torch.from_numpy(arr)\n",
    "x"
   ]
  },
  {
   "cell_type": "code",
   "execution_count": 11,
   "metadata": {},
   "outputs": [
    {
     "data": {
      "text/plain": [
       "tensor([[1, 1],\n",
       "        [1, 1]], dtype=torch.int32)"
      ]
     },
     "execution_count": 11,
     "metadata": {},
     "output_type": "execute_result"
    }
   ],
   "source": [
    "x_ones= torch.ones_like(x)\n",
    "x_ones"
   ]
  },
  {
   "cell_type": "code",
   "execution_count": 13,
   "metadata": {},
   "outputs": [
    {
     "data": {
      "text/plain": [
       "tensor([[9.5112e-01, 9.0003e-02],\n",
       "        [8.3804e-04, 7.9808e-01]])"
      ]
     },
     "execution_count": 13,
     "metadata": {},
     "output_type": "execute_result"
    }
   ],
   "source": [
    "x_rand= torch.rand_like(x, dtype=torch.float)\n",
    "x_rand"
   ]
  },
  {
   "cell_type": "code",
   "execution_count": 14,
   "metadata": {},
   "outputs": [
    {
     "data": {
      "text/plain": [
       "tensor([[0.3652, 0.1467, 0.9604],\n",
       "        [0.8282, 0.5038, 0.2975]])"
      ]
     },
     "execution_count": 14,
     "metadata": {},
     "output_type": "execute_result"
    }
   ],
   "source": [
    "rand_tensor= torch.rand(2,3)\n",
    "rand_tensor"
   ]
  },
  {
   "cell_type": "code",
   "execution_count": 15,
   "metadata": {},
   "outputs": [
    {
     "data": {
      "text/plain": [
       "tensor([[1., 1., 1.],\n",
       "        [1., 1., 1.]])"
      ]
     },
     "execution_count": 15,
     "metadata": {},
     "output_type": "execute_result"
    }
   ],
   "source": [
    "ones_tensor= torch.ones(2,3, dtype=torch.float32)\n",
    "ones_tensor"
   ]
  },
  {
   "cell_type": "code",
   "execution_count": 16,
   "metadata": {},
   "outputs": [
    {
     "data": {
      "text/plain": [
       "tensor([[0., 0., 0.],\n",
       "        [0., 0., 0.]])"
      ]
     },
     "execution_count": 16,
     "metadata": {},
     "output_type": "execute_result"
    }
   ],
   "source": [
    "zeros_tensor= torch.zeros(2,3)\n",
    "zeros_tensor"
   ]
  },
  {
   "cell_type": "code",
   "execution_count": 17,
   "metadata": {},
   "outputs": [
    {
     "data": {
      "text/plain": [
       "torch.Size([2, 3])"
      ]
     },
     "execution_count": 17,
     "metadata": {},
     "output_type": "execute_result"
    }
   ],
   "source": [
    "rand_tensor.shape"
   ]
  },
  {
   "cell_type": "code",
   "execution_count": 18,
   "metadata": {},
   "outputs": [
    {
     "data": {
      "text/plain": [
       "torch.float32"
      ]
     },
     "execution_count": 18,
     "metadata": {},
     "output_type": "execute_result"
    }
   ],
   "source": [
    "rand_tensor.dtype"
   ]
  },
  {
   "cell_type": "code",
   "execution_count": 19,
   "metadata": {},
   "outputs": [
    {
     "data": {
      "text/plain": [
       "device(type='cpu')"
      ]
     },
     "execution_count": 19,
     "metadata": {},
     "output_type": "execute_result"
    }
   ],
   "source": [
    "rand_tensor.device"
   ]
  },
  {
   "cell_type": "code",
   "execution_count": 20,
   "metadata": {},
   "outputs": [],
   "source": [
    "if torch.cuda.is_available():\n",
    "    rand_tensor = rand_tensor.to('cuda')"
   ]
  },
  {
   "cell_type": "code",
   "execution_count": 21,
   "metadata": {},
   "outputs": [
    {
     "data": {
      "text/plain": [
       "tensor([[0.3652, 1.0000, 0.9604],\n",
       "        [0.8282, 1.0000, 0.2975]])"
      ]
     },
     "execution_count": 21,
     "metadata": {},
     "output_type": "execute_result"
    }
   ],
   "source": [
    "rand_tensor[:,1]=1\n",
    "rand_tensor"
   ]
  },
  {
   "cell_type": "code",
   "execution_count": 23,
   "metadata": {},
   "outputs": [
    {
     "data": {
      "text/plain": [
       "tensor([0.3652, 0.8282])"
      ]
     },
     "execution_count": 23,
     "metadata": {},
     "output_type": "execute_result"
    }
   ],
   "source": [
    "rand_tensor[:,0]"
   ]
  },
  {
   "cell_type": "code",
   "execution_count": 22,
   "metadata": {},
   "outputs": [
    {
     "data": {
      "text/plain": [
       "tensor([0.3652, 1.0000, 0.9604])"
      ]
     },
     "execution_count": 22,
     "metadata": {},
     "output_type": "execute_result"
    }
   ],
   "source": [
    "rand_tensor[0]"
   ]
  },
  {
   "cell_type": "code",
   "execution_count": 24,
   "metadata": {},
   "outputs": [
    {
     "data": {
      "text/plain": [
       "tensor([0.9604, 0.2975])"
      ]
     },
     "execution_count": 24,
     "metadata": {},
     "output_type": "execute_result"
    }
   ],
   "source": [
    "rand_tensor[...,-1]"
   ]
  },
  {
   "cell_type": "code",
   "execution_count": 25,
   "metadata": {},
   "outputs": [
    {
     "data": {
      "text/plain": [
       "tensor(4.4513)"
      ]
     },
     "execution_count": 25,
     "metadata": {},
     "output_type": "execute_result"
    }
   ],
   "source": [
    "rand_tensor.sum()"
   ]
  },
  {
   "cell_type": "code",
   "execution_count": 26,
   "metadata": {},
   "outputs": [
    {
     "data": {
      "text/plain": [
       "4.451266288757324"
      ]
     },
     "execution_count": 26,
     "metadata": {},
     "output_type": "execute_result"
    }
   ],
   "source": [
    "rand_tensor.sum().item()"
   ]
  },
  {
   "cell_type": "code",
   "execution_count": 27,
   "metadata": {},
   "outputs": [
    {
     "data": {
      "text/plain": [
       "tensor([[0.3652, 1.0000, 0.9604, 0.0000, 0.0000, 0.0000],\n",
       "        [0.8282, 1.0000, 0.2975, 0.0000, 0.0000, 0.0000]])"
      ]
     },
     "execution_count": 27,
     "metadata": {},
     "output_type": "execute_result"
    }
   ],
   "source": [
    "t1= torch.cat([rand_tensor, zeros_tensor],dim=1)\n",
    "t1"
   ]
  },
  {
   "cell_type": "code",
   "execution_count": 28,
   "metadata": {},
   "outputs": [
    {
     "data": {
      "text/plain": [
       "tensor([[0.3652, 1.0000, 0.9604],\n",
       "        [0.8282, 1.0000, 0.2975],\n",
       "        [0.0000, 0.0000, 0.0000],\n",
       "        [0.0000, 0.0000, 0.0000]])"
      ]
     },
     "execution_count": 28,
     "metadata": {},
     "output_type": "execute_result"
    }
   ],
   "source": [
    "t2= torch.cat([rand_tensor, zeros_tensor],dim=0)\n",
    "t2"
   ]
  },
  {
   "cell_type": "code",
   "execution_count": 29,
   "metadata": {},
   "outputs": [
    {
     "data": {
      "text/plain": [
       "tensor([[0.3652, 1.0000, 0.9604],\n",
       "        [0.8282, 1.0000, 0.2975]])"
      ]
     },
     "execution_count": 29,
     "metadata": {},
     "output_type": "execute_result"
    }
   ],
   "source": [
    "rand_tensor.mul(ones_tensor)"
   ]
  },
  {
   "cell_type": "code",
   "execution_count": 30,
   "metadata": {},
   "outputs": [
    {
     "data": {
      "text/plain": [
       "tensor([[2.0557, 1.5881],\n",
       "        [1.5881, 1.7745]])"
      ]
     },
     "execution_count": 30,
     "metadata": {},
     "output_type": "execute_result"
    }
   ],
   "source": [
    "rand_tensor.matmul(rand_tensor.T)"
   ]
  },
  {
   "cell_type": "code",
   "execution_count": 31,
   "metadata": {},
   "outputs": [
    {
     "data": {
      "text/plain": [
       "tensor([[5.3652, 6.0000, 5.9604],\n",
       "        [5.8282, 6.0000, 5.2975]])"
      ]
     },
     "execution_count": 31,
     "metadata": {},
     "output_type": "execute_result"
    }
   ],
   "source": [
    "rand_tensor.add_(5)"
   ]
  },
  {
   "cell_type": "code",
   "execution_count": 2,
   "metadata": {
    "colab": {
     "base_uri": "https://localhost:8080/"
    },
    "executionInfo": {
     "elapsed": 45,
     "status": "ok",
     "timestamp": 1693021807392,
     "user": {
      "displayName": "Nasima Islam Bithi",
      "userId": "07730572757890972820"
     },
     "user_tz": -360
    },
    "id": "xwYvfhhy74pu",
    "outputId": "ff5b7932-b36a-4602-f6cc-93684ceeccaf"
   },
   "outputs": [
    {
     "data": {
      "text/plain": [
       "tensor([0.])"
      ]
     },
     "execution_count": 2,
     "metadata": {},
     "output_type": "execute_result"
    }
   ],
   "source": [
    "torch.empty(1)"
   ]
  },
  {
   "cell_type": "code",
   "execution_count": 3,
   "metadata": {
    "colab": {
     "base_uri": "https://localhost:8080/"
    },
    "executionInfo": {
     "elapsed": 504,
     "status": "ok",
     "timestamp": 1693021824126,
     "user": {
      "displayName": "Nasima Islam Bithi",
      "userId": "07730572757890972820"
     },
     "user_tz": -360
    },
    "id": "Kfr6jM5P9pwD",
    "outputId": "653e3d7c-bced-47c0-d02c-a18fd983c192"
   },
   "outputs": [
    {
     "data": {
      "text/plain": [
       "tensor([0., 0., 0.])"
      ]
     },
     "execution_count": 3,
     "metadata": {},
     "output_type": "execute_result"
    }
   ],
   "source": [
    "torch.empty(3)"
   ]
  },
  {
   "cell_type": "code",
   "execution_count": 4,
   "metadata": {
    "colab": {
     "base_uri": "https://localhost:8080/"
    },
    "executionInfo": {
     "elapsed": 503,
     "status": "ok",
     "timestamp": 1693021865545,
     "user": {
      "displayName": "Nasima Islam Bithi",
      "userId": "07730572757890972820"
     },
     "user_tz": -360
    },
    "id": "Xnh0FjvU9t8I",
    "outputId": "9c34efb8-66dc-4d26-a097-39acd4852040"
   },
   "outputs": [
    {
     "data": {
      "text/plain": [
       "tensor([[1.5513e-38, 6.5861e-43, 1.5513e-38],\n",
       "        [6.5861e-43, 1.5588e-38, 6.5861e-43]])"
      ]
     },
     "execution_count": 4,
     "metadata": {},
     "output_type": "execute_result"
    }
   ],
   "source": [
    "torch.empty(2,3)"
   ]
  },
  {
   "cell_type": "code",
   "execution_count": 5,
   "metadata": {
    "colab": {
     "base_uri": "https://localhost:8080/"
    },
    "executionInfo": {
     "elapsed": 1278,
     "status": "ok",
     "timestamp": 1693021904923,
     "user": {
      "displayName": "Nasima Islam Bithi",
      "userId": "07730572757890972820"
     },
     "user_tz": -360
    },
    "id": "n0xLFfoD91BW",
    "outputId": "93033f8b-5d2b-4b81-c772-2009980c8195"
   },
   "outputs": [
    {
     "data": {
      "text/plain": [
       "tensor([[[0., 0., 0.],\n",
       "         [0., 0., 0.]],\n",
       "\n",
       "        [[0., 0., 0.],\n",
       "         [0., 0., 0.]]])"
      ]
     },
     "execution_count": 5,
     "metadata": {},
     "output_type": "execute_result"
    }
   ],
   "source": [
    "torch.empty(2,2,3)"
   ]
  },
  {
   "cell_type": "code",
   "execution_count": 6,
   "metadata": {
    "colab": {
     "base_uri": "https://localhost:8080/"
    },
    "executionInfo": {
     "elapsed": 574,
     "status": "ok",
     "timestamp": 1693021943927,
     "user": {
      "displayName": "Nasima Islam Bithi",
      "userId": "07730572757890972820"
     },
     "user_tz": -360
    },
    "id": "lEfavTZu-EtG",
    "outputId": "ddbe56ee-39b8-4240-9376-893df830142b"
   },
   "outputs": [
    {
     "data": {
      "text/plain": [
       "tensor([[[[1.5803e-38, 6.5861e-43, 1.5803e-38],\n",
       "          [6.5861e-43, 1.5810e-38, 6.5861e-43]],\n",
       "\n",
       "         [[1.5810e-38, 6.5861e-43, 1.5789e-38],\n",
       "          [6.5861e-43, 1.5789e-38, 6.5861e-43]]],\n",
       "\n",
       "\n",
       "        [[[1.5798e-38, 6.5861e-43, 1.5798e-38],\n",
       "          [6.5861e-43, 1.6807e-38, 6.5861e-43]],\n",
       "\n",
       "         [[1.6807e-38, 6.5861e-43, 1.6814e-38],\n",
       "          [6.5861e-43, 1.6814e-38, 6.5861e-43]]]])"
      ]
     },
     "execution_count": 6,
     "metadata": {},
     "output_type": "execute_result"
    }
   ],
   "source": [
    "torch.empty(2,2,2,3)"
   ]
  },
  {
   "cell_type": "code",
   "execution_count": 33,
   "metadata": {
    "colab": {
     "base_uri": "https://localhost:8080/"
    },
    "executionInfo": {
     "elapsed": 12,
     "status": "ok",
     "timestamp": 1693022067121,
     "user": {
      "displayName": "Nasima Islam Bithi",
      "userId": "07730572757890972820"
     },
     "user_tz": -360
    },
    "id": "8Xcx_GuT-Q5S",
    "outputId": "40b851ca-cc15-4916-a4c2-81feb012acb1"
   },
   "outputs": [
    {
     "data": {
      "text/plain": [
       "tensor([[[0., 0., 0.],\n",
       "         [0., 0., 0.]],\n",
       "\n",
       "        [[0., 0., 0.],\n",
       "         [0., 0., 0.]]])"
      ]
     },
     "execution_count": 33,
     "metadata": {},
     "output_type": "execute_result"
    }
   ],
   "source": [
    "m= torch.zeros(2,2,3)\n",
    "m"
   ]
  },
  {
   "cell_type": "code",
   "execution_count": 34,
   "metadata": {
    "colab": {
     "base_uri": "https://localhost:8080/"
    },
    "executionInfo": {
     "elapsed": 10,
     "status": "ok",
     "timestamp": 1693022103109,
     "user": {
      "displayName": "Nasima Islam Bithi",
      "userId": "07730572757890972820"
     },
     "user_tz": -360
    },
    "id": "-ZdDySaK-pMv",
    "outputId": "09420162-e94f-4f70-cf45-5e65e214343f"
   },
   "outputs": [
    {
     "data": {
      "text/plain": [
       "tensor([0., 0., 0.])"
      ]
     },
     "execution_count": 34,
     "metadata": {},
     "output_type": "execute_result"
    }
   ],
   "source": [
    "torch.zeros(3)"
   ]
  },
  {
   "cell_type": "code",
   "execution_count": 35,
   "metadata": {
    "colab": {
     "base_uri": "https://localhost:8080/"
    },
    "executionInfo": {
     "elapsed": 9,
     "status": "ok",
     "timestamp": 1693022123002,
     "user": {
      "displayName": "Nasima Islam Bithi",
      "userId": "07730572757890972820"
     },
     "user_tz": -360
    },
    "id": "WPltHZIC-x-_",
    "outputId": "a8f86074-52c1-4a94-922f-70f6089b8370"
   },
   "outputs": [
    {
     "data": {
      "text/plain": [
       "tensor([1., 1., 1.])"
      ]
     },
     "execution_count": 35,
     "metadata": {},
     "output_type": "execute_result"
    }
   ],
   "source": [
    "torch.ones(3)"
   ]
  },
  {
   "cell_type": "code",
   "execution_count": 36,
   "metadata": {
    "colab": {
     "base_uri": "https://localhost:8080/"
    },
    "executionInfo": {
     "elapsed": 10,
     "status": "ok",
     "timestamp": 1693022191323,
     "user": {
      "displayName": "Nasima Islam Bithi",
      "userId": "07730572757890972820"
     },
     "user_tz": -360
    },
    "id": "q7WkNt74_DJi",
    "outputId": "31531080-b9b2-4e87-cc25-bf70cb434d6b"
   },
   "outputs": [
    {
     "data": {
      "text/plain": [
       "torch.Size([2, 2, 3])"
      ]
     },
     "execution_count": 36,
     "metadata": {},
     "output_type": "execute_result"
    }
   ],
   "source": [
    "m.size()"
   ]
  },
  {
   "cell_type": "code",
   "execution_count": 38,
   "metadata": {
    "colab": {
     "base_uri": "https://localhost:8080/"
    },
    "executionInfo": {
     "elapsed": 27,
     "status": "ok",
     "timestamp": 1693022216028,
     "user": {
      "displayName": "Nasima Islam Bithi",
      "userId": "07730572757890972820"
     },
     "user_tz": -360
    },
    "id": "-6EX84qo_Hr6",
    "outputId": "576d5525-9aca-4439-a12b-ec86b6fdd998"
   },
   "outputs": [
    {
     "data": {
      "text/plain": [
       "torch.float32"
      ]
     },
     "execution_count": 38,
     "metadata": {},
     "output_type": "execute_result"
    }
   ],
   "source": [
    "m.dtype"
   ]
  },
  {
   "cell_type": "code",
   "execution_count": 39,
   "metadata": {
    "id": "JB5YsLk5_NJ4"
   },
   "outputs": [],
   "source": [
    "x=torch.zeros(5,3, dtype=torch.float32)"
   ]
  },
  {
   "cell_type": "code",
   "execution_count": 40,
   "metadata": {
    "colab": {
     "base_uri": "https://localhost:8080/"
    },
    "executionInfo": {
     "elapsed": 4,
     "status": "ok",
     "timestamp": 1693022276829,
     "user": {
      "displayName": "Nasima Islam Bithi",
      "userId": "07730572757890972820"
     },
     "user_tz": -360
    },
    "id": "VUPNGRvz_b72",
    "outputId": "5bd7f5ef-a0c9-4baa-a35e-7ba7e0645f4b"
   },
   "outputs": [
    {
     "data": {
      "text/plain": [
       "tensor([[0., 0., 0.],\n",
       "        [0., 0., 0.],\n",
       "        [0., 0., 0.],\n",
       "        [0., 0., 0.],\n",
       "        [0., 0., 0.]])"
      ]
     },
     "execution_count": 40,
     "metadata": {},
     "output_type": "execute_result"
    }
   ],
   "source": [
    "x"
   ]
  },
  {
   "cell_type": "code",
   "execution_count": 41,
   "metadata": {
    "colab": {
     "base_uri": "https://localhost:8080/"
    },
    "executionInfo": {
     "elapsed": 4,
     "status": "ok",
     "timestamp": 1693022291759,
     "user": {
      "displayName": "Nasima Islam Bithi",
      "userId": "07730572757890972820"
     },
     "user_tz": -360
    },
    "id": "c5KSxs2y_cfv",
    "outputId": "d7ebdd52-8d82-4ae0-95d8-2944b3cde793"
   },
   "outputs": [
    {
     "data": {
      "text/plain": [
       "torch.float32"
      ]
     },
     "execution_count": 41,
     "metadata": {},
     "output_type": "execute_result"
    }
   ],
   "source": [
    "x.dtype"
   ]
  },
  {
   "cell_type": "code",
   "execution_count": 19,
   "metadata": {
    "id": "UuU0gU36_f8Y"
   },
   "outputs": [],
   "source": [
    "x=torch.tensor([4,6,7])"
   ]
  },
  {
   "cell_type": "code",
   "execution_count": 20,
   "metadata": {
    "colab": {
     "base_uri": "https://localhost:8080/"
    },
    "executionInfo": {
     "elapsed": 5,
     "status": "ok",
     "timestamp": 1693022323172,
     "user": {
      "displayName": "Nasima Islam Bithi",
      "userId": "07730572757890972820"
     },
     "user_tz": -360
    },
    "id": "oyZ31WZm_nCZ",
    "outputId": "932b8ec9-5d48-486f-d42f-b8123b66413c"
   },
   "outputs": [
    {
     "data": {
      "text/plain": [
       "tensor([4, 6, 7])"
      ]
     },
     "execution_count": 20,
     "metadata": {},
     "output_type": "execute_result"
    }
   ],
   "source": [
    "x"
   ]
  },
  {
   "cell_type": "code",
   "execution_count": 21,
   "metadata": {
    "colab": {
     "base_uri": "https://localhost:8080/"
    },
    "executionInfo": {
     "elapsed": 11,
     "status": "ok",
     "timestamp": 1693022338906,
     "user": {
      "displayName": "Nasima Islam Bithi",
      "userId": "07730572757890972820"
     },
     "user_tz": -360
    },
    "id": "5yw7IPas_nk7",
    "outputId": "621dd4a5-10ca-4172-f9de-5c2c4d67a19e"
   },
   "outputs": [
    {
     "data": {
      "text/plain": [
       "torch.Size([3])"
      ]
     },
     "execution_count": 21,
     "metadata": {},
     "output_type": "execute_result"
    }
   ],
   "source": [
    "x.size()"
   ]
  },
  {
   "cell_type": "code",
   "execution_count": 22,
   "metadata": {
    "colab": {
     "base_uri": "https://localhost:8080/"
    },
    "executionInfo": {
     "elapsed": 10,
     "status": "ok",
     "timestamp": 1693022609168,
     "user": {
      "displayName": "Nasima Islam Bithi",
      "userId": "07730572757890972820"
     },
     "user_tz": -360
    },
    "id": "JpXawEtM_qeh",
    "outputId": "1a7a33df-d239-4fba-ddd2-89751dd7c60e"
   },
   "outputs": [
    {
     "data": {
      "text/plain": [
       "tensor([4., 6., 7.], requires_grad=True)"
      ]
     },
     "execution_count": 22,
     "metadata": {},
     "output_type": "execute_result"
    }
   ],
   "source": [
    "x=torch.tensor([4,6,7], dtype=torch.float32, requires_grad=True)\n",
    "x"
   ]
  },
  {
   "cell_type": "code",
   "execution_count": 23,
   "metadata": {
    "id": "Am3jL9dCAbX-"
   },
   "outputs": [],
   "source": [
    "y= torch.rand(2,3)"
   ]
  },
  {
   "cell_type": "code",
   "execution_count": 24,
   "metadata": {
    "colab": {
     "base_uri": "https://localhost:8080/"
    },
    "executionInfo": {
     "elapsed": 8,
     "status": "ok",
     "timestamp": 1693022633973,
     "user": {
      "displayName": "Nasima Islam Bithi",
      "userId": "07730572757890972820"
     },
     "user_tz": -360
    },
    "id": "Si8dGh4iAzKx",
    "outputId": "ed0fbcd5-c886-440b-a20d-9222b5efba65"
   },
   "outputs": [
    {
     "data": {
      "text/plain": [
       "tensor([[0.7521, 0.4442, 0.5720],\n",
       "        [0.1759, 0.5861, 0.1517]])"
      ]
     },
     "execution_count": 24,
     "metadata": {},
     "output_type": "execute_result"
    }
   ],
   "source": [
    "y"
   ]
  },
  {
   "cell_type": "code",
   "execution_count": 25,
   "metadata": {
    "colab": {
     "base_uri": "https://localhost:8080/"
    },
    "executionInfo": {
     "elapsed": 12,
     "status": "ok",
     "timestamp": 1693022650071,
     "user": {
      "displayName": "Nasima Islam Bithi",
      "userId": "07730572757890972820"
     },
     "user_tz": -360
    },
    "id": "k1gbl-LtAzri",
    "outputId": "1ae8ded6-e33e-4dcb-a7c0-8f04ba04ceb1"
   },
   "outputs": [
    {
     "data": {
      "text/plain": [
       "tensor([[4.7521, 6.4442, 7.5720],\n",
       "        [4.1759, 6.5861, 7.1517]], grad_fn=<AddBackward0>)"
      ]
     },
     "execution_count": 25,
     "metadata": {},
     "output_type": "execute_result"
    }
   ],
   "source": [
    "z= x+y\n",
    "z"
   ]
  },
  {
   "cell_type": "code",
   "execution_count": 26,
   "metadata": {
    "colab": {
     "base_uri": "https://localhost:8080/"
    },
    "executionInfo": {
     "elapsed": 7,
     "status": "ok",
     "timestamp": 1693022685152,
     "user": {
      "displayName": "Nasima Islam Bithi",
      "userId": "07730572757890972820"
     },
     "user_tz": -360
    },
    "id": "Nwwmj4ByA3aR",
    "outputId": "cd788b85-407d-41e4-c38f-3da9dfec8484"
   },
   "outputs": [
    {
     "data": {
      "text/plain": [
       "tensor([[4.7521, 6.4442, 7.5720],\n",
       "        [4.1759, 6.5861, 7.1517]], grad_fn=<AddBackward0>)"
      ]
     },
     "execution_count": 26,
     "metadata": {},
     "output_type": "execute_result"
    }
   ],
   "source": [
    "torch.add(x,y)"
   ]
  },
  {
   "cell_type": "code",
   "execution_count": 27,
   "metadata": {
    "colab": {
     "base_uri": "https://localhost:8080/"
    },
    "executionInfo": {
     "elapsed": 5,
     "status": "ok",
     "timestamp": 1693022713560,
     "user": {
      "displayName": "Nasima Islam Bithi",
      "userId": "07730572757890972820"
     },
     "user_tz": -360
    },
    "id": "4Nl8tZbIBAAC",
    "outputId": "7659671a-3c8e-45d3-b0bc-f59300531333"
   },
   "outputs": [
    {
     "data": {
      "text/plain": [
       "tensor([[4.7521, 6.4442, 7.5720],\n",
       "        [4.1759, 6.5861, 7.1517]], grad_fn=<AddBackward0>)"
      ]
     },
     "execution_count": 27,
     "metadata": {},
     "output_type": "execute_result"
    }
   ],
   "source": [
    "y.add_(x)"
   ]
  },
  {
   "cell_type": "code",
   "execution_count": 28,
   "metadata": {
    "colab": {
     "base_uri": "https://localhost:8080/"
    },
    "executionInfo": {
     "elapsed": 483,
     "status": "ok",
     "timestamp": 1693022745829,
     "user": {
      "displayName": "Nasima Islam Bithi",
      "userId": "07730572757890972820"
     },
     "user_tz": -360
    },
    "id": "NzFQ3FE9BHMS",
    "outputId": "caad7ba6-ce45-4e4a-b45e-bb49fdede123"
   },
   "outputs": [
    {
     "data": {
      "text/plain": [
       "tensor([[-0.7521, -0.4442, -0.5720],\n",
       "        [-0.1759, -0.5861, -0.1517]], grad_fn=<SubBackward0>)"
      ]
     },
     "execution_count": 28,
     "metadata": {},
     "output_type": "execute_result"
    }
   ],
   "source": [
    "z= x-y\n",
    "torch.sub(x,y)"
   ]
  },
  {
   "cell_type": "code",
   "execution_count": 29,
   "metadata": {
    "colab": {
     "base_uri": "https://localhost:8080/"
    },
    "executionInfo": {
     "elapsed": 7,
     "status": "ok",
     "timestamp": 1693022769036,
     "user": {
      "displayName": "Nasima Islam Bithi",
      "userId": "07730572757890972820"
     },
     "user_tz": -360
    },
    "id": "gqYq_dqfBK-q",
    "outputId": "8ab9fe17-b3c3-4489-f841-adea5d61c11e"
   },
   "outputs": [
    {
     "data": {
      "text/plain": [
       "tensor([[19.0082, 38.6654, 53.0037],\n",
       "        [16.7037, 39.5166, 50.0616]], grad_fn=<MulBackward0>)"
      ]
     },
     "execution_count": 29,
     "metadata": {},
     "output_type": "execute_result"
    }
   ],
   "source": [
    "z= x*y\n",
    "torch.mul(x,y)"
   ]
  },
  {
   "cell_type": "code",
   "execution_count": 30,
   "metadata": {
    "colab": {
     "base_uri": "https://localhost:8080/"
    },
    "executionInfo": {
     "elapsed": 4,
     "status": "ok",
     "timestamp": 1693022791119,
     "user": {
      "displayName": "Nasima Islam Bithi",
      "userId": "07730572757890972820"
     },
     "user_tz": -360
    },
    "id": "DFPTQUc8BUkw",
    "outputId": "fffb6d2a-6183-4b97-d5e7-8cf3415d519d"
   },
   "outputs": [
    {
     "data": {
      "text/plain": [
       "tensor([[0.8417, 0.9311, 0.9245],\n",
       "        [0.9579, 0.9110, 0.9788]], grad_fn=<DivBackward0>)"
      ]
     },
     "execution_count": 30,
     "metadata": {},
     "output_type": "execute_result"
    }
   ],
   "source": [
    "z= x/y\n",
    "torch.div(x,y)"
   ]
  },
  {
   "cell_type": "code",
   "execution_count": 31,
   "metadata": {
    "colab": {
     "base_uri": "https://localhost:8080/"
    },
    "executionInfo": {
     "elapsed": 544,
     "status": "ok",
     "timestamp": 1693022883995,
     "user": {
      "displayName": "Nasima Islam Bithi",
      "userId": "07730572757890972820"
     },
     "user_tz": -360
    },
    "id": "xvy05x9ZBaDi",
    "outputId": "fd50dd0e-4991-4a19-d9df-0a3f511e2db8"
   },
   "outputs": [
    {
     "data": {
      "text/plain": [
       "tensor([[ 0.1856,  1.2338,  1.6420],\n",
       "        [ 0.9585, -0.2579,  0.5009]])"
      ]
     },
     "execution_count": 31,
     "metadata": {},
     "output_type": "execute_result"
    }
   ],
   "source": [
    "torch.randn(2,3) # pos-neg value"
   ]
  },
  {
   "cell_type": "code",
   "execution_count": 32,
   "metadata": {
    "colab": {
     "base_uri": "https://localhost:8080/"
    },
    "executionInfo": {
     "elapsed": 499,
     "status": "ok",
     "timestamp": 1693022955253,
     "user": {
      "displayName": "Nasima Islam Bithi",
      "userId": "07730572757890972820"
     },
     "user_tz": -360
    },
    "id": "P9lRuLepBdfx",
    "outputId": "a9eabb8f-b3ab-4b41-b834-e79ac586b5ce"
   },
   "outputs": [
    {
     "data": {
      "text/plain": [
       "tensor([[0.5031, 0.8586, 0.1295],\n",
       "        [0.7204, 0.2425, 0.4696]])"
      ]
     },
     "execution_count": 32,
     "metadata": {},
     "output_type": "execute_result"
    }
   ],
   "source": [
    "a=torch.rand(2,3)  # pos value\n",
    "a"
   ]
  },
  {
   "cell_type": "code",
   "execution_count": 33,
   "metadata": {
    "colab": {
     "base_uri": "https://localhost:8080/"
    },
    "executionInfo": {
     "elapsed": 10,
     "status": "ok",
     "timestamp": 1693022957773,
     "user": {
      "displayName": "Nasima Islam Bithi",
      "userId": "07730572757890972820"
     },
     "user_tz": -360
    },
    "id": "nh6plEenBg-a",
    "outputId": "b609d3cd-5270-4913-ad38-c81cd5131360"
   },
   "outputs": [
    {
     "data": {
      "text/plain": [
       "tensor([0.5031, 0.7204])"
      ]
     },
     "execution_count": 33,
     "metadata": {},
     "output_type": "execute_result"
    }
   ],
   "source": [
    "a[:,0]"
   ]
  },
  {
   "cell_type": "code",
   "execution_count": 34,
   "metadata": {
    "colab": {
     "base_uri": "https://localhost:8080/"
    },
    "executionInfo": {
     "elapsed": 6,
     "status": "ok",
     "timestamp": 1693022967537,
     "user": {
      "displayName": "Nasima Islam Bithi",
      "userId": "07730572757890972820"
     },
     "user_tz": -360
    },
    "id": "6rYpLNSeB64S",
    "outputId": "492a6a90-36ac-4bbe-b4d4-e67e355079fa"
   },
   "outputs": [
    {
     "data": {
      "text/plain": [
       "tensor([0.7204, 0.2425, 0.4696])"
      ]
     },
     "execution_count": 34,
     "metadata": {},
     "output_type": "execute_result"
    }
   ],
   "source": [
    "a[1, :]"
   ]
  },
  {
   "cell_type": "code",
   "execution_count": 35,
   "metadata": {
    "colab": {
     "base_uri": "https://localhost:8080/"
    },
    "executionInfo": {
     "elapsed": 6,
     "status": "ok",
     "timestamp": 1693022980528,
     "user": {
      "displayName": "Nasima Islam Bithi",
      "userId": "07730572757890972820"
     },
     "user_tz": -360
    },
    "id": "Ywa6xCdSCFCJ",
    "outputId": "f81ea92e-fc76-42cd-ce41-99db3e86a944"
   },
   "outputs": [
    {
     "data": {
      "text/plain": [
       "tensor(0.2425)"
      ]
     },
     "execution_count": 35,
     "metadata": {},
     "output_type": "execute_result"
    }
   ],
   "source": [
    "a[1,1]"
   ]
  },
  {
   "cell_type": "code",
   "execution_count": 36,
   "metadata": {
    "colab": {
     "base_uri": "https://localhost:8080/"
    },
    "executionInfo": {
     "elapsed": 11,
     "status": "ok",
     "timestamp": 1693023024557,
     "user": {
      "displayName": "Nasima Islam Bithi",
      "userId": "07730572757890972820"
     },
     "user_tz": -360
    },
    "id": "MFajf2k9CIUA",
    "outputId": "e1f6bd03-368e-4da7-f990-2ced0d8010cd"
   },
   "outputs": [
    {
     "data": {
      "text/plain": [
       "0.24250084161758423"
      ]
     },
     "execution_count": 36,
     "metadata": {},
     "output_type": "execute_result"
    }
   ],
   "source": [
    "a[1,1].item()"
   ]
  },
  {
   "cell_type": "code",
   "execution_count": 37,
   "metadata": {
    "colab": {
     "base_uri": "https://localhost:8080/"
    },
    "executionInfo": {
     "elapsed": 7,
     "status": "ok",
     "timestamp": 1693023081325,
     "user": {
      "displayName": "Nasima Islam Bithi",
      "userId": "07730572757890972820"
     },
     "user_tz": -360
    },
    "id": "8L0ZvJocCS-X",
    "outputId": "c4675afc-5fa3-429b-8aa6-da80f3276f86"
   },
   "outputs": [
    {
     "data": {
      "text/plain": [
       "array([[0.5030785 , 0.8585901 , 0.12948573],\n",
       "       [0.72040904, 0.24250084, 0.46962047]], dtype=float32)"
      ]
     },
     "execution_count": 37,
     "metadata": {},
     "output_type": "execute_result"
    }
   ],
   "source": [
    "b=a.numpy()\n",
    "b"
   ]
  },
  {
   "cell_type": "code",
   "execution_count": 38,
   "metadata": {
    "colab": {
     "base_uri": "https://localhost:8080/"
    },
    "executionInfo": {
     "elapsed": 540,
     "status": "ok",
     "timestamp": 1693023132723,
     "user": {
      "displayName": "Nasima Islam Bithi",
      "userId": "07730572757890972820"
     },
     "user_tz": -360
    },
    "id": "XQiIXdU9ClwH",
    "outputId": "f8939a0a-905e-4841-c8b9-7badc0bcd930"
   },
   "outputs": [
    {
     "data": {
      "text/plain": [
       "tensor([[0.5031, 0.8586, 0.1295],\n",
       "        [0.7204, 0.2425, 0.4696]])"
      ]
     },
     "execution_count": 38,
     "metadata": {},
     "output_type": "execute_result"
    }
   ],
   "source": [
    "a=torch.from_numpy(b)\n",
    "a"
   ]
  },
  {
   "cell_type": "code",
   "execution_count": 39,
   "metadata": {
    "id": "Jq1HT8OoCmiS"
   },
   "outputs": [],
   "source": [
    "if torch.cuda.is_available():\n",
    "  device = torch.device(\"cuda\")\n",
    "  y= torch.ones_like(x, device=device)\n",
    "  x= x.to(device)\n",
    "  z=x+y\n",
    "  z.to(\"cpu\")"
   ]
  },
  {
   "cell_type": "code",
   "execution_count": 40,
   "metadata": {
    "colab": {
     "base_uri": "https://localhost:8080/"
    },
    "executionInfo": {
     "elapsed": 10,
     "status": "ok",
     "timestamp": 1693023421495,
     "user": {
      "displayName": "Nasima Islam Bithi",
      "userId": "07730572757890972820"
     },
     "user_tz": -360
    },
    "id": "QhihJvdICws6",
    "outputId": "0b0ce6ff-b82e-45c0-a148-f2f224609e46"
   },
   "outputs": [
    {
     "data": {
      "text/plain": [
       "tensor([[-0.6083,  0.9469,  0.3348,  0.6343],\n",
       "        [ 0.6758, -0.3062, -0.4432,  1.4506],\n",
       "        [ 0.8586,  0.5396, -1.5568, -0.8612],\n",
       "        [ 1.6909, -0.3126, -1.4379,  0.2257]])"
      ]
     },
     "execution_count": 40,
     "metadata": {},
     "output_type": "execute_result"
    }
   ],
   "source": [
    "x = torch.randn(4,4)\n",
    "y=x.view(16)\n",
    "x"
   ]
  },
  {
   "cell_type": "code",
   "execution_count": 41,
   "metadata": {
    "colab": {
     "base_uri": "https://localhost:8080/"
    },
    "executionInfo": {
     "elapsed": 501,
     "status": "ok",
     "timestamp": 1693023427701,
     "user": {
      "displayName": "Nasima Islam Bithi",
      "userId": "07730572757890972820"
     },
     "user_tz": -360
    },
    "id": "ufWvdLYMCw0i",
    "outputId": "fa626564-d30f-4db6-e067-acfe5e9add40"
   },
   "outputs": [
    {
     "data": {
      "text/plain": [
       "tensor([-0.6083,  0.9469,  0.3348,  0.6343,  0.6758, -0.3062, -0.4432,  1.4506,\n",
       "         0.8586,  0.5396, -1.5568, -0.8612,  1.6909, -0.3126, -1.4379,  0.2257])"
      ]
     },
     "execution_count": 41,
     "metadata": {},
     "output_type": "execute_result"
    }
   ],
   "source": [
    "y"
   ]
  },
  {
   "cell_type": "code",
   "execution_count": 42,
   "metadata": {
    "colab": {
     "base_uri": "https://localhost:8080/"
    },
    "executionInfo": {
     "elapsed": 552,
     "status": "ok",
     "timestamp": 1693023493002,
     "user": {
      "displayName": "Nasima Islam Bithi",
      "userId": "07730572757890972820"
     },
     "user_tz": -360
    },
    "id": "VvP82CMQCw6C",
    "outputId": "8aba5d9f-1c85-46df-8956-c90f09f2386e"
   },
   "outputs": [
    {
     "data": {
      "text/plain": [
       "tensor([[-0.6083,  0.9469,  0.3348,  0.6343,  0.6758, -0.3062, -0.4432,  1.4506],\n",
       "        [ 0.8586,  0.5396, -1.5568, -0.8612,  1.6909, -0.3126, -1.4379,  0.2257]])"
      ]
     },
     "execution_count": 42,
     "metadata": {},
     "output_type": "execute_result"
    }
   ],
   "source": [
    "z= x.view(-1, 8) # if -1 it pytorch will automatically determine the necessary size\n",
    "z"
   ]
  },
  {
   "cell_type": "code",
   "execution_count": 43,
   "metadata": {
    "colab": {
     "base_uri": "https://localhost:8080/"
    },
    "executionInfo": {
     "elapsed": 8,
     "status": "ok",
     "timestamp": 1693023506016,
     "user": {
      "displayName": "Nasima Islam Bithi",
      "userId": "07730572757890972820"
     },
     "user_tz": -360
    },
    "id": "SDcoBmFFCmln",
    "outputId": "07e283b3-27e7-47fa-a648-258339c2212e"
   },
   "outputs": [
    {
     "data": {
      "text/plain": [
       "torch.Size([2, 8])"
      ]
     },
     "execution_count": 43,
     "metadata": {},
     "output_type": "execute_result"
    }
   ],
   "source": [
    "z.size()"
   ]
  },
  {
   "cell_type": "code",
   "execution_count": 44,
   "metadata": {
    "id": "o0sTHngoCgPV"
   },
   "outputs": [
    {
     "data": {
      "text/plain": [
       "torch.Size([4, 4])"
      ]
     },
     "execution_count": 44,
     "metadata": {},
     "output_type": "execute_result"
    }
   ],
   "source": [
    "x.shape"
   ]
  },
  {
   "cell_type": "code",
   "execution_count": 45,
   "metadata": {},
   "outputs": [
    {
     "data": {
      "text/plain": [
       "4"
      ]
     },
     "execution_count": 45,
     "metadata": {},
     "output_type": "execute_result"
    }
   ],
   "source": [
    "x.shape[0]"
   ]
  },
  {
   "cell_type": "code",
   "execution_count": 46,
   "metadata": {},
   "outputs": [
    {
     "data": {
      "text/plain": [
       "2"
      ]
     },
     "execution_count": 46,
     "metadata": {},
     "output_type": "execute_result"
    }
   ],
   "source": [
    "z.shape[0]"
   ]
  },
  {
   "cell_type": "code",
   "execution_count": 48,
   "metadata": {},
   "outputs": [
    {
     "data": {
      "text/plain": [
       "tensor([[-0.6083,  0.9469,  0.3348,  0.6343],\n",
       "        [ 0.6758, -0.3062, -0.4432,  1.4506],\n",
       "        [ 0.8586,  0.5396, -1.5568, -0.8612],\n",
       "        [ 1.6909, -0.3126, -1.4379,  0.2257]])"
      ]
     },
     "execution_count": 48,
     "metadata": {},
     "output_type": "execute_result"
    }
   ],
   "source": [
    "x"
   ]
  },
  {
   "cell_type": "code",
   "execution_count": 47,
   "metadata": {},
   "outputs": [
    {
     "data": {
      "text/plain": [
       "tensor([[-0.6083,  0.9469,  0.3348,  0.6343],\n",
       "        [ 0.6758, -0.3062, -0.4432,  1.4506],\n",
       "        [ 0.8586,  0.5396, -1.5568, -0.8612],\n",
       "        [ 1.6909, -0.3126, -1.4379,  0.2257]])"
      ]
     },
     "execution_count": 47,
     "metadata": {},
     "output_type": "execute_result"
    }
   ],
   "source": [
    "x.view(x.shape[0],-1)"
   ]
  },
  {
   "cell_type": "code",
   "execution_count": 52,
   "metadata": {},
   "outputs": [
    {
     "data": {
      "text/plain": [
       "tensor([[[[9.2755e-39, 1.0561e-38, 6.6123e-39],\n",
       "          [8.4490e-39, 1.0102e-38, 9.0919e-39]]],\n",
       "\n",
       "\n",
       "        [[[1.0102e-38, 8.9082e-39, 8.4489e-39],\n",
       "          [9.6429e-39, 8.4490e-39, 9.6429e-39]]],\n",
       "\n",
       "\n",
       "        [[[9.2755e-39, 1.0286e-38, 9.0919e-39],\n",
       "          [8.9082e-39, 9.2755e-39, 8.4490e-39]]],\n",
       "\n",
       "\n",
       "        [[[1.0194e-38, 9.0919e-39, 8.4490e-39],\n",
       "          [1.1020e-38, 1.0286e-38, 1.0561e-38]]]])"
      ]
     },
     "execution_count": 52,
     "metadata": {},
     "output_type": "execute_result"
    }
   ],
   "source": [
    "m= torch.empty(4,1,2,3)\n",
    "m"
   ]
  },
  {
   "cell_type": "code",
   "execution_count": null,
   "metadata": {},
   "outputs": [],
   "source": []
  }
 ],
 "metadata": {
  "colab": {
   "authorship_tag": "ABX9TyMbjzfqH9/SVlfk+cQ2WSCf",
   "provenance": []
  },
  "kernelspec": {
   "display_name": "Python 3 (ipykernel)",
   "language": "python",
   "name": "python3"
  },
  "language_info": {
   "codemirror_mode": {
    "name": "ipython",
    "version": 3
   },
   "file_extension": ".py",
   "mimetype": "text/x-python",
   "name": "python",
   "nbconvert_exporter": "python",
   "pygments_lexer": "ipython3",
   "version": "3.9.13"
  }
 },
 "nbformat": 4,
 "nbformat_minor": 1
}
