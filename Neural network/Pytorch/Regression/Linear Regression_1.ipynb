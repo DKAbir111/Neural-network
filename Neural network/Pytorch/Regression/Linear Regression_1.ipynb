{
 "cells": [
  {
   "cell_type": "code",
   "execution_count": 2,
   "metadata": {
    "executionInfo": {
     "elapsed": 5994,
     "status": "ok",
     "timestamp": 1696666451556,
     "user": {
      "displayName": "Nasima Islam Bithi",
      "userId": "07730572757890972820"
     },
     "user_tz": -360
    },
    "id": "q8aVafBiMqZJ"
   },
   "outputs": [],
   "source": [
    "import torch\n",
    "import torch.nn as nn\n",
    "import numpy as np\n",
    "from sklearn import datasets\n",
    "import matplotlib.pyplot as plt\n",
    "import torch.optim as optim\n",
    "from sklearn.metrics import r2_score\n"
   ]
  },
  {
   "cell_type": "code",
   "execution_count": 3,
   "metadata": {
    "executionInfo": {
     "elapsed": 6,
     "status": "ok",
     "timestamp": 1696666505127,
     "user": {
      "displayName": "Nasima Islam Bithi",
      "userId": "07730572757890972820"
     },
     "user_tz": -360
    },
    "id": "PJJIH9C1MySP"
   },
   "outputs": [],
   "source": [
    "X_numpy, y_numpy= datasets.make_regression(n_samples=100, n_features=1,noise=20,random_state=1)"
   ]
  },
  {
   "cell_type": "code",
   "execution_count": 4,
   "metadata": {
    "executionInfo": {
     "elapsed": 368,
     "status": "ok",
     "timestamp": 1696666598364,
     "user": {
      "displayName": "Nasima Islam Bithi",
      "userId": "07730572757890972820"
     },
     "user_tz": -360
    },
    "id": "btTbNwsgNGhg"
   },
   "outputs": [],
   "source": [
    "X=torch.from_numpy(X_numpy.astype(np.float32))\n",
    "y=torch.from_numpy(y_numpy.astype(np.float32))\n",
    "y=y.view(y.shape[0],1)"
   ]
  },
  {
   "cell_type": "code",
   "execution_count": 15,
   "metadata": {},
   "outputs": [
    {
     "data": {
      "text/plain": [
       "torch.Size([100, 1])"
      ]
     },
     "execution_count": 15,
     "metadata": {},
     "output_type": "execute_result"
    }
   ],
   "source": [
    "y.shape"
   ]
  },
  {
   "cell_type": "code",
   "execution_count": 16,
   "metadata": {
    "executionInfo": {
     "elapsed": 362,
     "status": "ok",
     "timestamp": 1696666692671,
     "user": {
      "displayName": "Nasima Islam Bithi",
      "userId": "07730572757890972820"
     },
     "user_tz": -360
    },
    "id": "gwCHVZjDNEpn"
   },
   "outputs": [],
   "source": [
    "n_samples, n_features = X.shape"
   ]
  },
  {
   "cell_type": "code",
   "execution_count": 17,
   "metadata": {},
   "outputs": [
    {
     "data": {
      "text/plain": [
       "torch.Size([100, 1])"
      ]
     },
     "execution_count": 17,
     "metadata": {},
     "output_type": "execute_result"
    }
   ],
   "source": [
    "X.shape"
   ]
  },
  {
   "cell_type": "code",
   "execution_count": 6,
   "metadata": {
    "executionInfo": {
     "elapsed": 352,
     "status": "ok",
     "timestamp": 1696666732635,
     "user": {
      "displayName": "Nasima Islam Bithi",
      "userId": "07730572757890972820"
     },
     "user_tz": -360
    },
    "id": "PggAarI2NdPu"
   },
   "outputs": [],
   "source": [
    "input_size=n_features\n",
    "output_size=1"
   ]
  },
  {
   "cell_type": "code",
   "execution_count": 7,
   "metadata": {
    "executionInfo": {
     "elapsed": 2,
     "status": "ok",
     "timestamp": 1696666811495,
     "user": {
      "displayName": "Nasima Islam Bithi",
      "userId": "07730572757890972820"
     },
     "user_tz": -360
    },
    "id": "fJLc4asSNo_o"
   },
   "outputs": [],
   "source": [
    "model= nn.Linear(input_size,1) #predict a value"
   ]
  },
  {
   "cell_type": "code",
   "execution_count": 8,
   "metadata": {
    "executionInfo": {
     "elapsed": 5,
     "status": "ok",
     "timestamp": 1696666953332,
     "user": {
      "displayName": "Nasima Islam Bithi",
      "userId": "07730572757890972820"
     },
     "user_tz": -360
    },
    "id": "FInmRYzLOBzp"
   },
   "outputs": [],
   "source": [
    "learning_rate=.01\n",
    "num_epoch=100\n"
   ]
  },
  {
   "cell_type": "code",
   "execution_count": 9,
   "metadata": {
    "executionInfo": {
     "elapsed": 2,
     "status": "ok",
     "timestamp": 1696666954564,
     "user": {
      "displayName": "Nasima Islam Bithi",
      "userId": "07730572757890972820"
     },
     "user_tz": -360
    },
    "id": "V1RO24CIOLKH"
   },
   "outputs": [],
   "source": [
    "criterion = nn.MSELoss()\n",
    "optimizer = torch.optim.SGD(model.parameters(), lr=learning_rate)"
   ]
  },
  {
   "cell_type": "code",
   "execution_count": 10,
   "metadata": {},
   "outputs": [],
   "source": [
    "total_loss = 0.0\n",
    "num_samples = 0\n",
    "true_values = []\n",
    "predicted_values = []"
   ]
  },
  {
   "cell_type": "code",
   "execution_count": 11,
   "metadata": {},
   "outputs": [
    {
     "name": "stdout",
     "output_type": "stream",
     "text": [
      "epoch: 10,\tMSE Loss = 49.6819\n",
      "epoch: 20,\tMSE Loss = 43.3000\n",
      "epoch: 30,\tMSE Loss = 38.0973\n",
      "epoch: 40,\tMSE Loss = 33.8268\n",
      "epoch: 50,\tMSE Loss = 30.2972\n",
      "epoch: 60,\tMSE Loss = 27.3595\n",
      "epoch: 70,\tMSE Loss = 24.8975\n",
      "epoch: 80,\tMSE Loss = 22.8199\n",
      "epoch: 90,\tMSE Loss = 21.0547\n",
      "epoch: 100,\tMSE Loss = 19.5447\n",
      "Final MSE Loss: 19.5447\n",
      "R-squared (R2): 0.6549\n"
     ]
    }
   ],
   "source": [
    "for epoch in range(num_epoch):\n",
    "    y_pred = model(X)\n",
    "    loss = criterion(y_pred, y)\n",
    "    loss.backward()\n",
    "    optimizer.step()\n",
    "    optimizer.zero_grad()\n",
    "\n",
    "    total_loss += loss.item()\n",
    "    num_samples += X.size(0)\n",
    "    \n",
    "    true_values.extend(y.tolist())  # For r2_scroe: Assuming y is a tensor\n",
    "    predicted_values.extend(y_pred.tolist())  # For r2_scroe: Assuming y_pred is a tensor\n",
    "\n",
    "    if (epoch + 1) % 10 == 0:\n",
    "        print(f'epoch: {epoch + 1},\\tMSE Loss = {total_loss/num_samples:.4f}')\n",
    "\n",
    "# Calculate the final MSE loss after all epochs\n",
    "final_mse = total_loss/num_samples\n",
    "r2 = r2_score(true_values, predicted_values)\n",
    "\n",
    "print(f'Final MSE Loss: {final_mse:.4f}')\n",
    "print(f'R-squared (R2): {r2:.4f}')\n"
   ]
  },
  {
   "cell_type": "code",
   "execution_count": 12,
   "metadata": {
    "executionInfo": {
     "elapsed": 370,
     "status": "ok",
     "timestamp": 1696667012652,
     "user": {
      "displayName": "Nasima Islam Bithi",
      "userId": "07730572757890972820"
     },
     "user_tz": -360
    },
    "id": "uGWDLfHDOzyk"
   },
   "outputs": [],
   "source": [
    "predicted = model(X).detach().numpy()"
   ]
  },
  {
   "cell_type": "code",
   "execution_count": 13,
   "metadata": {
    "colab": {
     "base_uri": "https://localhost:8080/",
     "height": 433
    },
    "executionInfo": {
     "elapsed": 1366,
     "status": "ok",
     "timestamp": 1696667027304,
     "user": {
      "displayName": "Nasima Islam Bithi",
      "userId": "07730572757890972820"
     },
     "user_tz": -360
    },
    "id": "nYFPwgL0PAkf",
    "outputId": "6f30842e-879f-498e-c454-59ce2d2d7a24"
   },
   "outputs": [
    {
     "data": {
      "image/png": "[encoded data removed]",
      "text/plain": [
       "<Figure size 640x480 with 1 Axes>"
      ]
     },
     "metadata": {},
     "output_type": "display_data"
    }
   ],
   "source": [
    "plt.plot(X_numpy, y_numpy, 'ro')\n",
    "plt.plot(X_numpy, predicted, 'b')\n",
    "plt.show()"
   ]
  },
  {
   "cell_type": "code",
   "execution_count": null,
   "metadata": {
    "id": "9KrX0_OePD5n"
   },
   "outputs": [],
   "source": []
  },
  {
   "cell_type": "code",
   "execution_count": null,
   "metadata": {},
   "outputs": [],
   "source": []
  }
 ],
 "metadata": {
  "colab": {
   "authorship_tag": "ABX9TyNz/kxb8AORYP8C5GPgQE9Z",
   "provenance": []
  },
  "kernelspec": {
   "display_name": "Python 3 (ipykernel)",
   "language": "python",
   "name": "python3"
  },
  "language_info": {
   "codemirror_mode": {
    "name": "ipython",
    "version": 3
   },
   "file_extension": ".py",
   "mimetype": "text/x-python",
   "name": "python",
   "nbconvert_exporter": "python",
   "pygments_lexer": "ipython3",
   "version": "3.9.13"
  }
 },
 "nbformat": 4,
 "nbformat_minor": 1
}
